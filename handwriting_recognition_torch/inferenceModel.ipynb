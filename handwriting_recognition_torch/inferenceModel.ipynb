{
 "cells": [
  {
   "cell_type": "code",
   "execution_count": 1,
   "metadata": {},
   "outputs": [],
   "source": [
    "import cv2\n",
    "import typing\n",
    "import numpy as np\n",
    "import os\n",
    "\n",
    "from mltu.inferenceModel import OnnxInferenceModel\n",
    "from mltu.utils.text_utils import ctc_decoder, get_cer\n",
    "import matplotlib.pyplot as plt\n"
   ]
  },
  {
   "cell_type": "code",
   "execution_count": 2,
   "metadata": {},
   "outputs": [],
   "source": [
    "class ImageToWordModel(OnnxInferenceModel):\n",
    "    def __init__(self, *args, **kwargs):\n",
    "        super().__init__(*args, **kwargs)\n",
    "\n",
    "    def predict(self, image: np.ndarray):\n",
    "        image = cv2.resize(image, self.input_shape[:2][::-1])\n",
    "\n",
    "        image_pred = np.expand_dims(image, axis=0).astype(np.float32)\n",
    "\n",
    "        preds = self.model.run(None, {self.input_name: image_pred})[0]\n",
    "\n",
    "        text = ctc_decoder(preds, self.vocab)[0]\n",
    "\n",
    "        return text"
   ]
  },
  {
   "cell_type": "code",
   "execution_count": 3,
   "metadata": {},
   "outputs": [],
   "source": [
    "# salvar imagem com sua label e predição\n",
    "\n",
    "def save_image(image_path, label, prediction_text, distance):\n",
    "    image = cv2.imread(image_path)\n",
    "    plt.imshow(image)\n",
    "    plt.title(f\"Label: {label}, Prediction: {prediction_text}, Distance: {distance}\")\n",
    "    if not os.path.isfile(f\"../data/imagens/{image_path.split('/')[-1]}\"): \n",
    "        plt.savefig(f\"../data/imagens/{image_path.split('/')[-1]}\")\n",
    "    else:\n",
    "        print(\"existe\")    "
   ]
  },
  {
   "cell_type": "code",
   "execution_count": null,
   "metadata": {},
   "outputs": [],
   "source": [
    "if __name__ == \"__main__\":\n",
    "    import pandas as pd\n",
    "    from tqdm import tqdm\n",
    "\n",
    "    model = ImageToWordModel(\n",
    "        model_path=\"Models/08_handwriting_recognition_torch/202306131539/model.onnx\")\n",
    "\n",
    "    df = pd.read_csv(\n",
    "        \"Models/08_handwriting_recognition_torch/202306131539/val.csv\").values.tolist()\n",
    "\n",
    "    accum_cer = []\n",
    "    for image_path, label in tqdm(df):\n",
    "        image = cv2.imread(image_path)\n",
    "\n",
    "        prediction_text = model.predict(image)\n",
    "\n",
    "        cer, distance = get_cer(prediction_text, label)\n",
    "        print(\n",
    "            f\"Image: {image_path}, Label: {label}, Prediction: {prediction_text}, CER: {cer}, Distance: {distance} \")\n",
    "        \n",
    "        save_image(image_path, label, prediction_text, distance)\n",
    "\n",
    "        accum_cer.append(cer)\n",
    "\n",
    "    print(f\"Average CER: {np.average(accum_cer)}\")"
   ]
  }
 ],
 "metadata": {
  "kernelspec": {
   "display_name": "Python 3",
   "language": "python",
   "name": "python3"
  },
  "language_info": {
   "codemirror_mode": {
    "name": "ipython",
    "version": 3
   },
   "file_extension": ".py",
   "mimetype": "text/x-python",
   "name": "python",
   "nbconvert_exporter": "python",
   "pygments_lexer": "ipython3",
   "version": "3.8.0"
  },
  "orig_nbformat": 4
 },
 "nbformat": 4,
 "nbformat_minor": 2
}

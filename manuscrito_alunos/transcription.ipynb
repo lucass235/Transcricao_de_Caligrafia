{
 "cells": [
  {
   "cell_type": "code",
   "execution_count": 33,
   "metadata": {},
   "outputs": [],
   "source": [
    "import os\n",
    "import pandas as pd\n",
    "import matplotlib.pyplot as plt\n",
    "import cv2\n",
    "import numpy as np\n",
    "\n",
    "from mltu.inferenceModel import OnnxInferenceModel\n",
    "from mltu.utils.text_utils import ctc_decoder, get_cer\n",
    "from tqdm import tqdm"
   ]
  },
  {
   "attachments": {},
   "cell_type": "markdown",
   "metadata": {},
   "source": [
    "### Carregar o dataset"
   ]
  },
  {
   "cell_type": "code",
   "execution_count": 34,
   "metadata": {},
   "outputs": [],
   "source": [
    "df = pd.read_csv('../data/data_20230622/data.csv', sep=';')"
   ]
  },
  {
   "cell_type": "code",
   "execution_count": 35,
   "metadata": {},
   "outputs": [
    {
     "data": {
      "text/html": [
       "<div>\n",
       "<style scoped>\n",
       "    .dataframe tbody tr th:only-of-type {\n",
       "        vertical-align: middle;\n",
       "    }\n",
       "\n",
       "    .dataframe tbody tr th {\n",
       "        vertical-align: top;\n",
       "    }\n",
       "\n",
       "    .dataframe thead th {\n",
       "        text-align: right;\n",
       "    }\n",
       "</style>\n",
       "<table border=\"1\" class=\"dataframe\">\n",
       "  <thead>\n",
       "    <tr style=\"text-align: right;\">\n",
       "      <th></th>\n",
       "      <th>ID</th>\n",
       "      <th>Label</th>\n",
       "      <th>UserId</th>\n",
       "      <th>UserName</th>\n",
       "      <th>UserRole</th>\n",
       "      <th>Request</th>\n",
       "      <th>SheetId</th>\n",
       "      <th>SheetName</th>\n",
       "      <th>Date</th>\n",
       "      <th>Parent1Name</th>\n",
       "      <th>Parent2Name</th>\n",
       "      <th>Parent3Name</th>\n",
       "    </tr>\n",
       "  </thead>\n",
       "  <tbody>\n",
       "    <tr>\n",
       "      <th>0</th>\n",
       "      <td>0</td>\n",
       "      <td>47</td>\n",
       "      <td>9b705e6cd6</td>\n",
       "      <td>Luis</td>\n",
       "      <td>PARTICIPANT</td>\n",
       "      <td>5f6ae87ce45a8d000156814a</td>\n",
       "      <td>5f6a1c5aa7b11b0001722ac7</td>\n",
       "      <td>100er-Zahlenband II</td>\n",
       "      <td>Sat May 20 10:46:58 UTC 2023</td>\n",
       "      <td>2. Klasse</td>\n",
       "      <td>Niklas</td>\n",
       "      <td>NaN</td>\n",
       "    </tr>\n",
       "    <tr>\n",
       "      <th>1</th>\n",
       "      <td>1</td>\n",
       "      <td>26</td>\n",
       "      <td>0f1a3956d7</td>\n",
       "      <td>Matilde</td>\n",
       "      <td>PARTICIPANT</td>\n",
       "      <td>5f6ae88be45a8d000156814c</td>\n",
       "      <td>5f6a1c5aa7b11b0001722ac7</td>\n",
       "      <td>100er-Zahlenband II</td>\n",
       "      <td>Sat May 20 10:46:58 UTC 2023</td>\n",
       "      <td>2. Klasse</td>\n",
       "      <td>Niklas</td>\n",
       "      <td>NaN</td>\n",
       "    </tr>\n",
       "    <tr>\n",
       "      <th>2</th>\n",
       "      <td>2</td>\n",
       "      <td>40</td>\n",
       "      <td>ea5dee75ac</td>\n",
       "      <td>Lorenzo</td>\n",
       "      <td>PARTICIPANT</td>\n",
       "      <td>5f6ae8a3e45a8d000156814e</td>\n",
       "      <td>5f6a1c5aa7b11b0001722ac7</td>\n",
       "      <td>100er-Zahlenband II</td>\n",
       "      <td>Sat May 20 10:46:58 UTC 2023</td>\n",
       "      <td>2. Klasse</td>\n",
       "      <td>Niklas</td>\n",
       "      <td>NaN</td>\n",
       "    </tr>\n",
       "    <tr>\n",
       "      <th>3</th>\n",
       "      <td>3</td>\n",
       "      <td>48</td>\n",
       "      <td>ea5dee75ac</td>\n",
       "      <td>Lorenzo</td>\n",
       "      <td>PARTICIPANT</td>\n",
       "      <td>5f6ae8a3e45a8d000156814e</td>\n",
       "      <td>5f6a1c5aa7b11b0001722ac7</td>\n",
       "      <td>100er-Zahlenband II</td>\n",
       "      <td>Sat May 20 10:46:58 UTC 2023</td>\n",
       "      <td>2. Klasse</td>\n",
       "      <td>Niklas</td>\n",
       "      <td>NaN</td>\n",
       "    </tr>\n",
       "    <tr>\n",
       "      <th>4</th>\n",
       "      <td>4</td>\n",
       "      <td>41</td>\n",
       "      <td>ea5dee75ac</td>\n",
       "      <td>Lorenzo</td>\n",
       "      <td>PARTICIPANT</td>\n",
       "      <td>5f6ae8a3e45a8d000156814e</td>\n",
       "      <td>5f6a1c5aa7b11b0001722ac7</td>\n",
       "      <td>100er-Zahlenband II</td>\n",
       "      <td>Sat May 20 10:46:58 UTC 2023</td>\n",
       "      <td>2. Klasse</td>\n",
       "      <td>Niklas</td>\n",
       "      <td>NaN</td>\n",
       "    </tr>\n",
       "  </tbody>\n",
       "</table>\n",
       "</div>"
      ],
      "text/plain": [
       "   ID Label      UserId UserName     UserRole                   Request  \\\n",
       "0   0    47  9b705e6cd6     Luis  PARTICIPANT  5f6ae87ce45a8d000156814a   \n",
       "1   1    26  0f1a3956d7  Matilde  PARTICIPANT  5f6ae88be45a8d000156814c   \n",
       "2   2    40  ea5dee75ac  Lorenzo  PARTICIPANT  5f6ae8a3e45a8d000156814e   \n",
       "3   3    48  ea5dee75ac  Lorenzo  PARTICIPANT  5f6ae8a3e45a8d000156814e   \n",
       "4   4    41  ea5dee75ac  Lorenzo  PARTICIPANT  5f6ae8a3e45a8d000156814e   \n",
       "\n",
       "                    SheetId            SheetName  \\\n",
       "0  5f6a1c5aa7b11b0001722ac7  100er-Zahlenband II   \n",
       "1  5f6a1c5aa7b11b0001722ac7  100er-Zahlenband II   \n",
       "2  5f6a1c5aa7b11b0001722ac7  100er-Zahlenband II   \n",
       "3  5f6a1c5aa7b11b0001722ac7  100er-Zahlenband II   \n",
       "4  5f6a1c5aa7b11b0001722ac7  100er-Zahlenband II   \n",
       "\n",
       "                           Date Parent1Name Parent2Name Parent3Name  \n",
       "0  Sat May 20 10:46:58 UTC 2023   2. Klasse      Niklas         NaN  \n",
       "1  Sat May 20 10:46:58 UTC 2023   2. Klasse      Niklas         NaN  \n",
       "2  Sat May 20 10:46:58 UTC 2023   2. Klasse      Niklas         NaN  \n",
       "3  Sat May 20 10:46:58 UTC 2023   2. Klasse      Niklas         NaN  \n",
       "4  Sat May 20 10:46:58 UTC 2023   2. Klasse      Niklas         NaN  "
      ]
     },
     "execution_count": 35,
     "metadata": {},
     "output_type": "execute_result"
    }
   ],
   "source": [
    "df.head()"
   ]
  },
  {
   "cell_type": "code",
   "execution_count": 36,
   "metadata": {},
   "outputs": [
    {
     "data": {
      "text/html": [
       "<div>\n",
       "<style scoped>\n",
       "    .dataframe tbody tr th:only-of-type {\n",
       "        vertical-align: middle;\n",
       "    }\n",
       "\n",
       "    .dataframe tbody tr th {\n",
       "        vertical-align: top;\n",
       "    }\n",
       "\n",
       "    .dataframe thead th {\n",
       "        text-align: right;\n",
       "    }\n",
       "</style>\n",
       "<table border=\"1\" class=\"dataframe\">\n",
       "  <thead>\n",
       "    <tr style=\"text-align: right;\">\n",
       "      <th></th>\n",
       "      <th>ID</th>\n",
       "      <th>Label</th>\n",
       "      <th>UserId</th>\n",
       "      <th>UserName</th>\n",
       "      <th>UserRole</th>\n",
       "      <th>Request</th>\n",
       "      <th>SheetId</th>\n",
       "      <th>SheetName</th>\n",
       "      <th>Date</th>\n",
       "      <th>Parent1Name</th>\n",
       "      <th>Parent2Name</th>\n",
       "      <th>Parent3Name</th>\n",
       "    </tr>\n",
       "  </thead>\n",
       "  <tbody>\n",
       "    <tr>\n",
       "      <th>14881</th>\n",
       "      <td>14881</td>\n",
       "      <td>Natureza</td>\n",
       "      <td>448905d42b34dbd</td>\n",
       "      <td>JOSE GABRIEL LIMA COSTA</td>\n",
       "      <td>PARTICIPANTBR</td>\n",
       "      <td>637d057802ae3800010957af</td>\n",
       "      <td>63276c6a8b87bc0001383e01</td>\n",
       "      <td>Avaliação da Escrita 2 Ano</td>\n",
       "      <td>Tue May 23 11:26:46 UTC 2023</td>\n",
       "      <td>2ºC</td>\n",
       "      <td>Emeb Myriam Penteado Rodrigues Alckmin</td>\n",
       "      <td>Ferraz de Vasconcelos</td>\n",
       "    </tr>\n",
       "    <tr>\n",
       "      <th>14882</th>\n",
       "      <td>14882</td>\n",
       "      <td>Planeta</td>\n",
       "      <td>448905d42b34dbd</td>\n",
       "      <td>JOSE GABRIEL LIMA COSTA</td>\n",
       "      <td>PARTICIPANTBR</td>\n",
       "      <td>637d057802ae3800010957af</td>\n",
       "      <td>63276c6a8b87bc0001383e01</td>\n",
       "      <td>Avaliação da Escrita 2 Ano</td>\n",
       "      <td>Tue May 23 11:26:46 UTC 2023</td>\n",
       "      <td>2ºC</td>\n",
       "      <td>Emeb Myriam Penteado Rodrigues Alckmin</td>\n",
       "      <td>Ferraz de Vasconcelos</td>\n",
       "    </tr>\n",
       "    <tr>\n",
       "      <th>14883</th>\n",
       "      <td>14883</td>\n",
       "      <td>Terra</td>\n",
       "      <td>448905d42b34dbd</td>\n",
       "      <td>JOSE GABRIEL LIMA COSTA</td>\n",
       "      <td>PARTICIPANTBR</td>\n",
       "      <td>637d057802ae3800010957af</td>\n",
       "      <td>63276c6a8b87bc0001383e01</td>\n",
       "      <td>Avaliação da Escrita 2 Ano</td>\n",
       "      <td>Tue May 23 11:26:46 UTC 2023</td>\n",
       "      <td>2ºC</td>\n",
       "      <td>Emeb Myriam Penteado Rodrigues Alckmin</td>\n",
       "      <td>Ferraz de Vasconcelos</td>\n",
       "    </tr>\n",
       "    <tr>\n",
       "      <th>14884</th>\n",
       "      <td>14884</td>\n",
       "      <td>Flor</td>\n",
       "      <td>448905d42b34dbd</td>\n",
       "      <td>JOSE GABRIEL LIMA COSTA</td>\n",
       "      <td>PARTICIPANTBR</td>\n",
       "      <td>637d057802ae3800010957af</td>\n",
       "      <td>63276c6a8b87bc0001383e01</td>\n",
       "      <td>Avaliação da Escrita 2 Ano</td>\n",
       "      <td>Tue May 23 11:26:46 UTC 2023</td>\n",
       "      <td>2ºC</td>\n",
       "      <td>Emeb Myriam Penteado Rodrigues Alckmin</td>\n",
       "      <td>Ferraz de Vasconcelos</td>\n",
       "    </tr>\n",
       "    <tr>\n",
       "      <th>14885</th>\n",
       "      <td>14885</td>\n",
       "      <td>O nosso planeta é muito bonito</td>\n",
       "      <td>448905d42b34dbd</td>\n",
       "      <td>JOSE GABRIEL LIMA COSTA</td>\n",
       "      <td>PARTICIPANTBR</td>\n",
       "      <td>637d057802ae3800010957af</td>\n",
       "      <td>63276c6a8b87bc0001383e01</td>\n",
       "      <td>Avaliação da Escrita 2 Ano</td>\n",
       "      <td>Tue May 23 11:26:46 UTC 2023</td>\n",
       "      <td>2ºC</td>\n",
       "      <td>Emeb Myriam Penteado Rodrigues Alckmin</td>\n",
       "      <td>Ferraz de Vasconcelos</td>\n",
       "    </tr>\n",
       "  </tbody>\n",
       "</table>\n",
       "</div>"
      ],
      "text/plain": [
       "          ID                           Label           UserId  \\\n",
       "14881  14881                        Natureza  448905d42b34dbd   \n",
       "14882  14882                         Planeta  448905d42b34dbd   \n",
       "14883  14883                           Terra  448905d42b34dbd   \n",
       "14884  14884                            Flor  448905d42b34dbd   \n",
       "14885  14885  O nosso planeta é muito bonito  448905d42b34dbd   \n",
       "\n",
       "                      UserName       UserRole                   Request  \\\n",
       "14881  JOSE GABRIEL LIMA COSTA  PARTICIPANTBR  637d057802ae3800010957af   \n",
       "14882  JOSE GABRIEL LIMA COSTA  PARTICIPANTBR  637d057802ae3800010957af   \n",
       "14883  JOSE GABRIEL LIMA COSTA  PARTICIPANTBR  637d057802ae3800010957af   \n",
       "14884  JOSE GABRIEL LIMA COSTA  PARTICIPANTBR  637d057802ae3800010957af   \n",
       "14885  JOSE GABRIEL LIMA COSTA  PARTICIPANTBR  637d057802ae3800010957af   \n",
       "\n",
       "                        SheetId                   SheetName  \\\n",
       "14881  63276c6a8b87bc0001383e01  Avaliação da Escrita 2 Ano   \n",
       "14882  63276c6a8b87bc0001383e01  Avaliação da Escrita 2 Ano   \n",
       "14883  63276c6a8b87bc0001383e01  Avaliação da Escrita 2 Ano   \n",
       "14884  63276c6a8b87bc0001383e01  Avaliação da Escrita 2 Ano   \n",
       "14885  63276c6a8b87bc0001383e01  Avaliação da Escrita 2 Ano   \n",
       "\n",
       "                               Date Parent1Name  \\\n",
       "14881  Tue May 23 11:26:46 UTC 2023         2ºC   \n",
       "14882  Tue May 23 11:26:46 UTC 2023         2ºC   \n",
       "14883  Tue May 23 11:26:46 UTC 2023         2ºC   \n",
       "14884  Tue May 23 11:26:46 UTC 2023         2ºC   \n",
       "14885  Tue May 23 11:26:46 UTC 2023         2ºC   \n",
       "\n",
       "                                  Parent2Name            Parent3Name  \n",
       "14881  Emeb Myriam Penteado Rodrigues Alckmin  Ferraz de Vasconcelos  \n",
       "14882  Emeb Myriam Penteado Rodrigues Alckmin  Ferraz de Vasconcelos  \n",
       "14883  Emeb Myriam Penteado Rodrigues Alckmin  Ferraz de Vasconcelos  \n",
       "14884  Emeb Myriam Penteado Rodrigues Alckmin  Ferraz de Vasconcelos  \n",
       "14885  Emeb Myriam Penteado Rodrigues Alckmin  Ferraz de Vasconcelos  "
      ]
     },
     "execution_count": 36,
     "metadata": {},
     "output_type": "execute_result"
    }
   ],
   "source": [
    "df = df[df['UserRole'] == 'PARTICIPANTBR']\n",
    "df.head()"
   ]
  },
  {
   "attachments": {},
   "cell_type": "markdown",
   "metadata": {},
   "source": [
    "### Tratamento do dataset"
   ]
  },
  {
   "cell_type": "code",
   "execution_count": 37,
   "metadata": {},
   "outputs": [],
   "source": [
    "# criar um novo dataframe com as colunas id e label\n",
    "df = df[['ID', 'Label']]"
   ]
  },
  {
   "cell_type": "code",
   "execution_count": 38,
   "metadata": {},
   "outputs": [],
   "source": [
    "# transformar a coluna id em string\n",
    "df['ID'] = df['ID'].astype(str)"
   ]
  },
  {
   "cell_type": "code",
   "execution_count": 39,
   "metadata": {},
   "outputs": [],
   "source": [
    "# adicionar uma string '../data/data_20230622/' no início da coluna id\n",
    "df['ID'] = '../data/data_20230622/' + df['ID'] + '.jpeg'"
   ]
  },
  {
   "cell_type": "code",
   "execution_count": 40,
   "metadata": {},
   "outputs": [
    {
     "name": "stdout",
     "output_type": "stream",
     "text": [
      "Arquivo já existe\n"
     ]
    }
   ],
   "source": [
    "# guardar esse novo dataframe em um arquivo csv\n",
    "if not os.path.exists('labels_BR.csv'):    \n",
    "    df.to_csv('labels.csv', index=False)\n",
    "else :\n",
    "    print('Arquivo já existe')    "
   ]
  },
  {
   "cell_type": "code",
   "execution_count": 68,
   "metadata": {},
   "outputs": [
    {
     "data": {
      "text/html": [
       "<div>\n",
       "<style scoped>\n",
       "    .dataframe tbody tr th:only-of-type {\n",
       "        vertical-align: middle;\n",
       "    }\n",
       "\n",
       "    .dataframe tbody tr th {\n",
       "        vertical-align: top;\n",
       "    }\n",
       "\n",
       "    .dataframe thead th {\n",
       "        text-align: right;\n",
       "    }\n",
       "</style>\n",
       "<table border=\"1\" class=\"dataframe\">\n",
       "  <thead>\n",
       "    <tr style=\"text-align: right;\">\n",
       "      <th></th>\n",
       "      <th>ID</th>\n",
       "      <th>Label</th>\n",
       "    </tr>\n",
       "  </thead>\n",
       "  <tbody>\n",
       "    <tr>\n",
       "      <th>14881</th>\n",
       "      <td>../data/data_20230622/14881.jpeg</td>\n",
       "      <td>Natureza</td>\n",
       "    </tr>\n",
       "    <tr>\n",
       "      <th>14882</th>\n",
       "      <td>../data/data_20230622/14882.jpeg</td>\n",
       "      <td>Planeta</td>\n",
       "    </tr>\n",
       "    <tr>\n",
       "      <th>14883</th>\n",
       "      <td>../data/data_20230622/14883.jpeg</td>\n",
       "      <td>Terra</td>\n",
       "    </tr>\n",
       "    <tr>\n",
       "      <th>14884</th>\n",
       "      <td>../data/data_20230622/14884.jpeg</td>\n",
       "      <td>Flor</td>\n",
       "    </tr>\n",
       "    <tr>\n",
       "      <th>14885</th>\n",
       "      <td>../data/data_20230622/14885.jpeg</td>\n",
       "      <td>O nosso planeta é muito bonito</td>\n",
       "    </tr>\n",
       "  </tbody>\n",
       "</table>\n",
       "</div>"
      ],
      "text/plain": [
       "                                     ID                           Label\n",
       "14881  ../data/data_20230622/14881.jpeg                        Natureza\n",
       "14882  ../data/data_20230622/14882.jpeg                         Planeta\n",
       "14883  ../data/data_20230622/14883.jpeg                           Terra\n",
       "14884  ../data/data_20230622/14884.jpeg                            Flor\n",
       "14885  ../data/data_20230622/14885.jpeg  O nosso planeta é muito bonito"
      ]
     },
     "execution_count": 68,
     "metadata": {},
     "output_type": "execute_result"
    }
   ],
   "source": [
    "df.head()"
   ]
  },
  {
   "attachments": {},
   "cell_type": "markdown",
   "metadata": {},
   "source": [
    "### Rodar o modelo"
   ]
  },
  {
   "cell_type": "code",
   "execution_count": 41,
   "metadata": {},
   "outputs": [],
   "source": [
    "class ImageToWordModel(OnnxInferenceModel):\n",
    "    def __init__(self, *args, **kwargs):\n",
    "        super().__init__(*args, **kwargs)\n",
    "\n",
    "    def predict(self, image: np.ndarray):\n",
    "        image = cv2.resize(image, self.input_shape[:2][::-1])\n",
    "\n",
    "        image_pred = np.expand_dims(image, axis=0).astype(np.float32)\n",
    "\n",
    "        preds = self.model.run(None, {self.input_name: image_pred})[0]\n",
    "\n",
    "        text = ctc_decoder(preds, self.vocab)[0]\n",
    "\n",
    "        return text"
   ]
  },
  {
   "cell_type": "code",
   "execution_count": 42,
   "metadata": {},
   "outputs": [],
   "source": [
    "model = ImageToWordModel(\"./Models/model.onnx\")"
   ]
  },
  {
   "cell_type": "code",
   "execution_count": 69,
   "metadata": {},
   "outputs": [
    {
     "name": "stderr",
     "output_type": "stream",
     "text": [
      "4it [00:00, 269.25it/s]"
     ]
    },
    {
     "name": "stdout",
     "output_type": "stream",
     "text": [
      "Label: Natureza - Text: NATTA - CER: 1.4 - Distance: 7\n",
      "Label: Planeta - Text: SAA - CER: 2.3333333333333335 - Distance: 7\n",
      "Label: Terra - Text: PaMTA - CER: 1.0 - Distance: 5\n",
      "Label: Flor - Text: AA - CER: 2.0 - Distance: 4\n",
      "Label: O nosso planeta é muito bonito - Text: O OSSO TAAA ADA - CER: 0.9333333333333333 - Distance: 14\n",
      "Mean CER: 1.5333333333333334\n"
     ]
    },
    {
     "name": "stderr",
     "output_type": "stream",
     "text": [
      "\n"
     ]
    }
   ],
   "source": [
    "accum_cer = []\n",
    "for index, row in tqdm(df.iterrows()):\n",
    "    image = cv2.imread(row['ID'])\n",
    "    text = model.predict(image)\n",
    "    cer, distance = get_cer(row['Label'], text)\n",
    "    print(f'Label: {row[\"Label\"]} - Text: {text} - CER: {cer} - Distance: {distance}')\n",
    "    accum_cer.append(cer)\n",
    "    if index == 14885:\n",
    "        break\n",
    "\n",
    "print(f'Mean CER: {np.mean(accum_cer)}')\n"
   ]
  }
 ],
 "metadata": {
  "kernelspec": {
   "display_name": "Python 3",
   "language": "python",
   "name": "python3"
  },
  "language_info": {
   "codemirror_mode": {
    "name": "ipython",
    "version": 3
   },
   "file_extension": ".py",
   "mimetype": "text/x-python",
   "name": "python",
   "nbconvert_exporter": "python",
   "pygments_lexer": "ipython3",
   "version": "3.8.0"
  },
  "orig_nbformat": 4
 },
 "nbformat": 4,
 "nbformat_minor": 2
}

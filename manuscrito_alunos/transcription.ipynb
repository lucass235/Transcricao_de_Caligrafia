{
 "cells": [
  {
   "cell_type": "code",
   "execution_count": 66,
   "metadata": {},
   "outputs": [],
   "source": [
    "import os\n",
    "import pandas as pd\n",
    "import matplotlib.pyplot as plt\n",
    "import cv2\n",
    "import numpy as np\n",
    "\n",
    "from mltu.inferenceModel import OnnxInferenceModel\n",
    "from mltu.utils.text_utils import ctc_decoder, get_cer\n",
    "from tqdm import tqdm"
   ]
  },
  {
   "attachments": {},
   "cell_type": "markdown",
   "metadata": {},
   "source": [
    "### Carregar o dataset"
   ]
  },
  {
   "cell_type": "code",
   "execution_count": 55,
   "metadata": {},
   "outputs": [],
   "source": [
    "df = pd.read_csv('../data/data_20230622/data.csv', sep=';')"
   ]
  },
  {
   "cell_type": "code",
   "execution_count": 56,
   "metadata": {},
   "outputs": [
    {
     "data": {
      "text/html": [
       "<div>\n",
       "<style scoped>\n",
       "    .dataframe tbody tr th:only-of-type {\n",
       "        vertical-align: middle;\n",
       "    }\n",
       "\n",
       "    .dataframe tbody tr th {\n",
       "        vertical-align: top;\n",
       "    }\n",
       "\n",
       "    .dataframe thead th {\n",
       "        text-align: right;\n",
       "    }\n",
       "</style>\n",
       "<table border=\"1\" class=\"dataframe\">\n",
       "  <thead>\n",
       "    <tr style=\"text-align: right;\">\n",
       "      <th></th>\n",
       "      <th>ID</th>\n",
       "      <th>Label</th>\n",
       "      <th>UserId</th>\n",
       "      <th>UserName</th>\n",
       "      <th>UserRole</th>\n",
       "      <th>Request</th>\n",
       "      <th>SheetId</th>\n",
       "      <th>SheetName</th>\n",
       "      <th>Date</th>\n",
       "      <th>Parent1Name</th>\n",
       "      <th>Parent2Name</th>\n",
       "      <th>Parent3Name</th>\n",
       "    </tr>\n",
       "  </thead>\n",
       "  <tbody>\n",
       "    <tr>\n",
       "      <th>0</th>\n",
       "      <td>0</td>\n",
       "      <td>47</td>\n",
       "      <td>9b705e6cd6</td>\n",
       "      <td>Luis</td>\n",
       "      <td>PARTICIPANT</td>\n",
       "      <td>5f6ae87ce45a8d000156814a</td>\n",
       "      <td>5f6a1c5aa7b11b0001722ac7</td>\n",
       "      <td>100er-Zahlenband II</td>\n",
       "      <td>Sat May 20 10:46:58 UTC 2023</td>\n",
       "      <td>2. Klasse</td>\n",
       "      <td>Niklas</td>\n",
       "      <td>NaN</td>\n",
       "    </tr>\n",
       "    <tr>\n",
       "      <th>1</th>\n",
       "      <td>1</td>\n",
       "      <td>26</td>\n",
       "      <td>0f1a3956d7</td>\n",
       "      <td>Matilde</td>\n",
       "      <td>PARTICIPANT</td>\n",
       "      <td>5f6ae88be45a8d000156814c</td>\n",
       "      <td>5f6a1c5aa7b11b0001722ac7</td>\n",
       "      <td>100er-Zahlenband II</td>\n",
       "      <td>Sat May 20 10:46:58 UTC 2023</td>\n",
       "      <td>2. Klasse</td>\n",
       "      <td>Niklas</td>\n",
       "      <td>NaN</td>\n",
       "    </tr>\n",
       "    <tr>\n",
       "      <th>2</th>\n",
       "      <td>2</td>\n",
       "      <td>40</td>\n",
       "      <td>ea5dee75ac</td>\n",
       "      <td>Lorenzo</td>\n",
       "      <td>PARTICIPANT</td>\n",
       "      <td>5f6ae8a3e45a8d000156814e</td>\n",
       "      <td>5f6a1c5aa7b11b0001722ac7</td>\n",
       "      <td>100er-Zahlenband II</td>\n",
       "      <td>Sat May 20 10:46:58 UTC 2023</td>\n",
       "      <td>2. Klasse</td>\n",
       "      <td>Niklas</td>\n",
       "      <td>NaN</td>\n",
       "    </tr>\n",
       "    <tr>\n",
       "      <th>3</th>\n",
       "      <td>3</td>\n",
       "      <td>48</td>\n",
       "      <td>ea5dee75ac</td>\n",
       "      <td>Lorenzo</td>\n",
       "      <td>PARTICIPANT</td>\n",
       "      <td>5f6ae8a3e45a8d000156814e</td>\n",
       "      <td>5f6a1c5aa7b11b0001722ac7</td>\n",
       "      <td>100er-Zahlenband II</td>\n",
       "      <td>Sat May 20 10:46:58 UTC 2023</td>\n",
       "      <td>2. Klasse</td>\n",
       "      <td>Niklas</td>\n",
       "      <td>NaN</td>\n",
       "    </tr>\n",
       "    <tr>\n",
       "      <th>4</th>\n",
       "      <td>4</td>\n",
       "      <td>41</td>\n",
       "      <td>ea5dee75ac</td>\n",
       "      <td>Lorenzo</td>\n",
       "      <td>PARTICIPANT</td>\n",
       "      <td>5f6ae8a3e45a8d000156814e</td>\n",
       "      <td>5f6a1c5aa7b11b0001722ac7</td>\n",
       "      <td>100er-Zahlenband II</td>\n",
       "      <td>Sat May 20 10:46:58 UTC 2023</td>\n",
       "      <td>2. Klasse</td>\n",
       "      <td>Niklas</td>\n",
       "      <td>NaN</td>\n",
       "    </tr>\n",
       "  </tbody>\n",
       "</table>\n",
       "</div>"
      ],
      "text/plain": [
       "   ID Label      UserId UserName     UserRole                   Request  \\\n",
       "0   0    47  9b705e6cd6     Luis  PARTICIPANT  5f6ae87ce45a8d000156814a   \n",
       "1   1    26  0f1a3956d7  Matilde  PARTICIPANT  5f6ae88be45a8d000156814c   \n",
       "2   2    40  ea5dee75ac  Lorenzo  PARTICIPANT  5f6ae8a3e45a8d000156814e   \n",
       "3   3    48  ea5dee75ac  Lorenzo  PARTICIPANT  5f6ae8a3e45a8d000156814e   \n",
       "4   4    41  ea5dee75ac  Lorenzo  PARTICIPANT  5f6ae8a3e45a8d000156814e   \n",
       "\n",
       "                    SheetId            SheetName  \\\n",
       "0  5f6a1c5aa7b11b0001722ac7  100er-Zahlenband II   \n",
       "1  5f6a1c5aa7b11b0001722ac7  100er-Zahlenband II   \n",
       "2  5f6a1c5aa7b11b0001722ac7  100er-Zahlenband II   \n",
       "3  5f6a1c5aa7b11b0001722ac7  100er-Zahlenband II   \n",
       "4  5f6a1c5aa7b11b0001722ac7  100er-Zahlenband II   \n",
       "\n",
       "                           Date Parent1Name Parent2Name Parent3Name  \n",
       "0  Sat May 20 10:46:58 UTC 2023   2. Klasse      Niklas         NaN  \n",
       "1  Sat May 20 10:46:58 UTC 2023   2. Klasse      Niklas         NaN  \n",
       "2  Sat May 20 10:46:58 UTC 2023   2. Klasse      Niklas         NaN  \n",
       "3  Sat May 20 10:46:58 UTC 2023   2. Klasse      Niklas         NaN  \n",
       "4  Sat May 20 10:46:58 UTC 2023   2. Klasse      Niklas         NaN  "
      ]
     },
     "execution_count": 56,
     "metadata": {},
     "output_type": "execute_result"
    }
   ],
   "source": [
    "df.head()"
   ]
  },
  {
   "attachments": {},
   "cell_type": "markdown",
   "metadata": {},
   "source": [
    "### Tratamento do dataset"
   ]
  },
  {
   "cell_type": "code",
   "execution_count": 57,
   "metadata": {},
   "outputs": [],
   "source": [
    "# criar um novo dataframe com as colunas id e label\n",
    "df = df[['ID', 'Label']]"
   ]
  },
  {
   "cell_type": "code",
   "execution_count": 58,
   "metadata": {},
   "outputs": [],
   "source": [
    "# transformar a coluna id em string\n",
    "df['ID'] = df['ID'].astype(str)"
   ]
  },
  {
   "cell_type": "code",
   "execution_count": 59,
   "metadata": {},
   "outputs": [],
   "source": [
    "# adicionar uma string '../data/data_20230622/' no início da coluna id\n",
    "df['ID'] = '../data/data_20230622/' + df['ID'] + '.jpeg'"
   ]
  },
  {
   "cell_type": "code",
   "execution_count": 60,
   "metadata": {},
   "outputs": [
    {
     "name": "stdout",
     "output_type": "stream",
     "text": [
      "Arquivo já existe\n"
     ]
    }
   ],
   "source": [
    "# guardar esse novo dataframe em um arquivo csv\n",
    "if not os.path.exists('labels.csv'):    \n",
    "    df.to_csv('labels.csv', index=False)\n",
    "else :\n",
    "    print('Arquivo já existe')    "
   ]
  },
  {
   "attachments": {},
   "cell_type": "markdown",
   "metadata": {},
   "source": [
    "### Rodar o modelo"
   ]
  },
  {
   "cell_type": "code",
   "execution_count": 64,
   "metadata": {},
   "outputs": [],
   "source": [
    "class ImageToWordModel(OnnxInferenceModel):\n",
    "    def __init__(self, *args, **kwargs):\n",
    "        super().__init__(*args, **kwargs)\n",
    "\n",
    "    def predict(self, image: np.ndarray):\n",
    "        image = cv2.resize(image, self.input_shape[:2][::-1])\n",
    "\n",
    "        image_pred = np.expand_dims(image, axis=0).astype(np.float32)\n",
    "\n",
    "        preds = self.model.run(None, {self.input_name: image_pred})[0]\n",
    "\n",
    "        text = ctc_decoder(preds, self.vocab)[0]\n",
    "\n",
    "        return text"
   ]
  },
  {
   "cell_type": "code",
   "execution_count": 65,
   "metadata": {},
   "outputs": [],
   "source": [
    "model = ImageToWordModel(\"../handwriting_recognition_torch/Models/08_handwriting_recognition_torch/202306131539/model.onnx\")"
   ]
  },
  {
   "cell_type": "code",
   "execution_count": null,
   "metadata": {},
   "outputs": [],
   "source": [
    "accum_cer = []\n",
    "for i in tqdm(range(len(df))):\n",
    "    image = cv2.imread(df['ID'][i])\n",
    "    text = model.predict(image)\n",
    "    cer, distance = get_cer(df['Label'][i], text)\n",
    "    print(f'Label: {df[\"Label\"][i]} - Text: {text} - CER: {cer} - Distance: {distance}')\n",
    "    accum_cer.append(cer)\n",
    "print(f'Mean CER: {np.mean(accum_cer)}')    "
   ]
  }
 ],
 "metadata": {
  "kernelspec": {
   "display_name": "Python 3",
   "language": "python",
   "name": "python3"
  },
  "language_info": {
   "codemirror_mode": {
    "name": "ipython",
    "version": 3
   },
   "file_extension": ".py",
   "mimetype": "text/x-python",
   "name": "python",
   "nbconvert_exporter": "python",
   "pygments_lexer": "ipython3",
   "version": "3.8.0"
  },
  "orig_nbformat": 4
 },
 "nbformat": 4,
 "nbformat_minor": 2
}

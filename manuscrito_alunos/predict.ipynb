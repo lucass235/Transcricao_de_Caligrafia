{
 "cells": [
  {
   "cell_type": "code",
   "execution_count": 1,
   "metadata": {},
   "outputs": [],
   "source": [
    "import os\n",
    "import pandas as pd\n",
    "import matplotlib.pyplot as plt\n",
    "import cv2\n",
    "import numpy as np\n",
    "\n",
    "from mltu.inferenceModel import OnnxInferenceModel\n",
    "from mltu.utils.text_utils import ctc_decoder, get_cer\n",
    "from tqdm import tqdm\n",
    "from matplotlib import patheffects"
   ]
  },
  {
   "attachments": {},
   "cell_type": "markdown",
   "metadata": {},
   "source": [
    "### Rodar o modelo"
   ]
  },
  {
   "cell_type": "code",
   "execution_count": 2,
   "metadata": {},
   "outputs": [],
   "source": [
    "class ImageToWordModel(OnnxInferenceModel):\n",
    "    def __init__(self, *args, **kwargs):\n",
    "        super().__init__(*args, **kwargs)\n",
    "\n",
    "    def predict(self, image: np.ndarray):\n",
    "        image = cv2.resize(image, self.input_shape[:2][::-1])\n",
    "\n",
    "        image_pred = np.expand_dims(image, axis=0).astype(np.float32)\n",
    "\n",
    "        preds = self.model.run(None, {self.input_name: image_pred})[0]\n",
    "\n",
    "        text = ctc_decoder(preds, self.vocab)[0]\n",
    "\n",
    "        return text"
   ]
  },
  {
   "cell_type": "code",
   "execution_count": 3,
   "metadata": {},
   "outputs": [],
   "source": [
    "model = ImageToWordModel(\"./Models/model.onnx\")"
   ]
  },
  {
   "attachments": {},
   "cell_type": "markdown",
   "metadata": {},
   "source": [
    "### Salvar a acurácia do modelo com o dataset de teste"
   ]
  },
  {
   "cell_type": "code",
   "execution_count": 4,
   "metadata": {},
   "outputs": [
    {
     "data": {
      "text/html": [
       "<div>\n",
       "<style scoped>\n",
       "    .dataframe tbody tr th:only-of-type {\n",
       "        vertical-align: middle;\n",
       "    }\n",
       "\n",
       "    .dataframe tbody tr th {\n",
       "        vertical-align: top;\n",
       "    }\n",
       "\n",
       "    .dataframe thead th {\n",
       "        text-align: right;\n",
       "    }\n",
       "</style>\n",
       "<table border=\"1\" class=\"dataframe\">\n",
       "  <thead>\n",
       "    <tr style=\"text-align: right;\">\n",
       "      <th></th>\n",
       "      <th>0</th>\n",
       "      <th>1</th>\n",
       "    </tr>\n",
       "  </thead>\n",
       "  <tbody>\n",
       "    <tr>\n",
       "      <th>0</th>\n",
       "      <td>../data/data_20230622/26064.jpeg</td>\n",
       "      <td>cbsa</td>\n",
       "    </tr>\n",
       "    <tr>\n",
       "      <th>1</th>\n",
       "      <td>../data/data_20230622/14892.jpeg</td>\n",
       "      <td>PANETA</td>\n",
       "    </tr>\n",
       "    <tr>\n",
       "      <th>2</th>\n",
       "      <td>../data/data_20230622/22929.jpeg</td>\n",
       "      <td>CEBOLINHA</td>\n",
       "    </tr>\n",
       "    <tr>\n",
       "      <th>3</th>\n",
       "      <td>../data/data_20230622/17350.jpeg</td>\n",
       "      <td>NATUREZA</td>\n",
       "    </tr>\n",
       "    <tr>\n",
       "      <th>4</th>\n",
       "      <td>../data/data_20230622/15680.jpeg</td>\n",
       "      <td>O NOSSO PLANETA E MUITO BONITO</td>\n",
       "    </tr>\n",
       "  </tbody>\n",
       "</table>\n",
       "</div>"
      ],
      "text/plain": [
       "                                  0                               1\n",
       "0  ../data/data_20230622/26064.jpeg                            cbsa\n",
       "1  ../data/data_20230622/14892.jpeg                          PANETA\n",
       "2  ../data/data_20230622/22929.jpeg                       CEBOLINHA\n",
       "3  ../data/data_20230622/17350.jpeg                        NATUREZA\n",
       "4  ../data/data_20230622/15680.jpeg  O NOSSO PLANETA E MUITO BONITO"
      ]
     },
     "execution_count": 4,
     "metadata": {},
     "output_type": "execute_result"
    }
   ],
   "source": [
    "df = pd.read_csv('./Models/val_BR.csv')\n",
    "df.head()"
   ]
  },
  {
   "cell_type": "code",
   "execution_count": 5,
   "metadata": {},
   "outputs": [
    {
     "name": "stderr",
     "output_type": "stream",
     "text": [
      "  0%|          | 0/1138 [00:00<?, ?it/s]"
     ]
    },
    {
     "name": "stderr",
     "output_type": "stream",
     "text": [
      " 23%|██▎       | 264/1138 [00:03<00:10, 80.03it/s]\n"
     ]
    },
    {
     "ename": "KeyboardInterrupt",
     "evalue": "",
     "output_type": "error",
     "traceback": [
      "\u001b[1;31m---------------------------------------------------------------------------\u001b[0m",
      "\u001b[1;31mKeyboardInterrupt\u001b[0m                         Traceback (most recent call last)",
      "\u001b[1;32mc:\\Users\\lucas\\Documents\\GitHub\\Transcricao_de_Caligrafia\\manuscrito_alunos\\predict.ipynb Cell 7\u001b[0m in \u001b[0;36m<cell line: 7>\u001b[1;34m()\u001b[0m\n\u001b[0;32m      <a href='vscode-notebook-cell:/c%3A/Users/lucas/Documents/GitHub/Transcricao_de_Caligrafia/manuscrito_alunos/predict.ipynb#W6sZmlsZQ%3D%3D?line=4'>5</a>\u001b[0m df_test \u001b[39m=\u001b[39m pd\u001b[39m.\u001b[39mDataFrame(columns\u001b[39m=\u001b[39m[\u001b[39m'\u001b[39m\u001b[39mPredict\u001b[39m\u001b[39m'\u001b[39m, \u001b[39m'\u001b[39m\u001b[39mLabel\u001b[39m\u001b[39m'\u001b[39m])\n\u001b[0;32m      <a href='vscode-notebook-cell:/c%3A/Users/lucas/Documents/GitHub/Transcricao_de_Caligrafia/manuscrito_alunos/predict.ipynb#W6sZmlsZQ%3D%3D?line=6'>7</a>\u001b[0m \u001b[39mfor\u001b[39;00m i \u001b[39min\u001b[39;00m tqdm(\u001b[39mrange\u001b[39m(\u001b[39mlen\u001b[39m(df))):\n\u001b[1;32m----> <a href='vscode-notebook-cell:/c%3A/Users/lucas/Documents/GitHub/Transcricao_de_Caligrafia/manuscrito_alunos/predict.ipynb#W6sZmlsZQ%3D%3D?line=7'>8</a>\u001b[0m     image \u001b[39m=\u001b[39m cv2\u001b[39m.\u001b[39;49mimread(df[\u001b[39m'\u001b[39;49m\u001b[39m0\u001b[39;49m\u001b[39m'\u001b[39;49m][i])\n\u001b[0;32m      <a href='vscode-notebook-cell:/c%3A/Users/lucas/Documents/GitHub/Transcricao_de_Caligrafia/manuscrito_alunos/predict.ipynb#W6sZmlsZQ%3D%3D?line=8'>9</a>\u001b[0m     text \u001b[39m=\u001b[39m model\u001b[39m.\u001b[39mpredict(image)  \n\u001b[0;32m     <a href='vscode-notebook-cell:/c%3A/Users/lucas/Documents/GitHub/Transcricao_de_Caligrafia/manuscrito_alunos/predict.ipynb#W6sZmlsZQ%3D%3D?line=9'>10</a>\u001b[0m     \u001b[39mif\u001b[39;00m text\u001b[39m.\u001b[39mupper() \u001b[39m==\u001b[39m df[\u001b[39m'\u001b[39m\u001b[39m1\u001b[39m\u001b[39m'\u001b[39m][i]\u001b[39m.\u001b[39mupper():\n",
      "\u001b[1;31mKeyboardInterrupt\u001b[0m: "
     ]
    }
   ],
   "source": [
    "acuracy = 0\n",
    "total = 0\n",
    "\n",
    "# Criar o DataFrame para armazenar os resultados\n",
    "df_test = pd.DataFrame(columns=['Predict', 'Label'])\n",
    "\n",
    "for i in tqdm(range(len(df))):\n",
    "    image = cv2.imread(df['0'][i])\n",
    "    text = model.predict(image)  \n",
    "    if text.upper() == df['1'][i].upper():\n",
    "        acuracy += 1\n",
    "    total += 1\n",
    "    data = {'Predict': [text.upper()], 'Label': [df['1'][i].upper()]}\n",
    "    # salvar no csv df_test\n",
    "    df_test = pd.concat([df_test, pd.DataFrame(data)], ignore_index=True)\n",
    "    \n",
    "# Criar DataFrame com a acurácia\n",
    "accuracy_data = {'Predict': ['Accuracy:'], 'Label': [acuracy / total]}\n",
    "df_accuracy = pd.DataFrame(accuracy_data)\n",
    "\n",
    "# Concatenar DataFrame df_accuracy com df_test\n",
    "df_test = pd.concat([df_test, df_accuracy], ignore_index=True)    \n",
    "    \n",
    "# Salvar o DataFrame no arquivo test.csv\n",
    "df_test.to_csv('accuracy.csv', index=False)   \n",
    " \n",
    "print(\"Accuracy: \", acuracy / total)\n"
   ]
  },
  {
   "cell_type": "code",
   "execution_count": 6,
   "metadata": {},
   "outputs": [
    {
     "data": {
      "text/html": [
       "<div>\n",
       "<style scoped>\n",
       "    .dataframe tbody tr th:only-of-type {\n",
       "        vertical-align: middle;\n",
       "    }\n",
       "\n",
       "    .dataframe tbody tr th {\n",
       "        vertical-align: top;\n",
       "    }\n",
       "\n",
       "    .dataframe thead th {\n",
       "        text-align: right;\n",
       "    }\n",
       "</style>\n",
       "<table border=\"1\" class=\"dataframe\">\n",
       "  <thead>\n",
       "    <tr style=\"text-align: right;\">\n",
       "      <th></th>\n",
       "      <th>ID</th>\n",
       "      <th>Label</th>\n",
       "    </tr>\n",
       "  </thead>\n",
       "  <tbody>\n",
       "    <tr>\n",
       "      <th>0</th>\n",
       "      <td>../data/data_20230622/14881.jpeg</td>\n",
       "      <td>Natureza</td>\n",
       "    </tr>\n",
       "    <tr>\n",
       "      <th>1</th>\n",
       "      <td>../data/data_20230622/14882.jpeg</td>\n",
       "      <td>Planeta</td>\n",
       "    </tr>\n",
       "    <tr>\n",
       "      <th>2</th>\n",
       "      <td>../data/data_20230622/14883.jpeg</td>\n",
       "      <td>Terra</td>\n",
       "    </tr>\n",
       "    <tr>\n",
       "      <th>3</th>\n",
       "      <td>../data/data_20230622/14884.jpeg</td>\n",
       "      <td>Flor</td>\n",
       "    </tr>\n",
       "    <tr>\n",
       "      <th>4</th>\n",
       "      <td>../data/data_20230622/14885.jpeg</td>\n",
       "      <td>O nosso planeta é muito bonito</td>\n",
       "    </tr>\n",
       "  </tbody>\n",
       "</table>\n",
       "</div>"
      ],
      "text/plain": [
       "                                 ID                           Label\n",
       "0  ../data/data_20230622/14881.jpeg                        Natureza\n",
       "1  ../data/data_20230622/14882.jpeg                         Planeta\n",
       "2  ../data/data_20230622/14883.jpeg                           Terra\n",
       "3  ../data/data_20230622/14884.jpeg                            Flor\n",
       "4  ../data/data_20230622/14885.jpeg  O nosso planeta é muito bonito"
      ]
     },
     "execution_count": 6,
     "metadata": {},
     "output_type": "execute_result"
    }
   ],
   "source": [
    "df = pd.read_csv('./labels_BR.csv')\n",
    "df.head()"
   ]
  },
  {
   "cell_type": "code",
   "execution_count": null,
   "metadata": {},
   "outputs": [],
   "source": [
    "def save_image(image, image_path, label, prediction_text, distance):\n",
    "    \n",
    "    plt.imshow(image)\n",
    "    plt.title(f\"Label: {label}\\n Prediction: {prediction_text}\\n Distance: {distance}\", color='yellow', path_effects=[patheffects.withStroke(linewidth=3, foreground='black')])\n",
    "    if not os.path.isfile(f\"../data/imagens_BR/{image_path.split('/')[-1]}\"): \n",
    "        plt.savefig(f\"../data/imagens_BR/{image_path.split('/')[-1]}\")\n",
    "    else:\n",
    "        print(\"existe\")"
   ]
  },
  {
   "attachments": {},
   "cell_type": "markdown",
   "metadata": {},
   "source": [
    "### Plote de 1 imagem para teste"
   ]
  },
  {
   "cell_type": "code",
   "execution_count": 19,
   "metadata": {},
   "outputs": [
    {
     "data": {
      "image/png": "[encoded data removed]",
      "text/plain": [
       "<Figure size 640x480 with 1 Axes>"
      ]
     },
     "metadata": {},
     "output_type": "display_data"
    }
   ],
   "source": [
    "# plotar apenas uma imagem para teste\n",
    "image_path = df['ID'].iloc[1]\n",
    "image = cv2.imread(image_path)\n",
    "predict = model.predict(image)\n",
    "label = df['Label'].iloc[1]\n",
    "result = get_cer(label.upper(), predict.upper())\n",
    "if isinstance(result, float):\n",
    "    cer = result\n",
    "    distance = None  # Defina um valor padrão para a distância, se necessário\n",
    "else:\n",
    "    cer, distance = result\n",
    "plt.imshow(image)\n",
    "plt.axis('off')\n",
    "plt.title(f\"Label: {label.upper()}\\n Prediction: {predict}\\n Distance: {distance}\", color='yellow', path_effects=[patheffects.withStroke(linewidth=3, foreground='black')]);"
   ]
  },
  {
   "attachments": {},
   "cell_type": "markdown",
   "metadata": {},
   "source": [
    "### Salvar as imagens com a label, predição e distance"
   ]
  },
  {
   "cell_type": "code",
   "execution_count": null,
   "metadata": {},
   "outputs": [
    {
     "name": "stderr",
     "output_type": "stream",
     "text": [
      "17it [00:00, 83.63it/s]"
     ]
    },
    {
     "name": "stdout",
     "output_type": "stream",
     "text": [
      "Label: Natureza - Text: NATUREZA - CER: 0.0 - Distance: 0\n",
      "existe\n",
      "Label: Planeta - Text: PLANETA - CER: 0.0 - Distance: 0\n",
      "existe\n",
      "Label: Terra - Text: TERRA - CER: 0.0 - Distance: 0\n",
      "existe\n",
      "Label: Flor - Text: FLOR - CER: 0.0 - Distance: 0\n",
      "existe\n",
      "Label: O nosso planeta é muito bonito - Text: O NOSSO PLANETA É MUITO BONITO - CER: 0.0 - Distance: 0\n",
      "existe\n",
      "Label: Natureza - Text: NATURESA - CER: 0.125 - Distance: 1\n",
      "existe\n",
      "Label: Planeta - Text: PLANETA - CER: 0.0 - Distance: 0\n",
      "existe\n",
      "Label: Terra - Text: TERRA - CER: 0.0 - Distance: 0\n",
      "existe\n",
      "Label: Flor - Text: FLOR - CER: 0.0 - Distance: 0\n",
      "existe\n",
      "Label: Kauane Sofia Alves: O nosso planeta é muito bonito - Text: O NOSSO PLANETA É MUITO BONITO - CER: 0.6666666666666666 - Distance: 20\n",
      "existe\n",
      "Label: NATUREVA - Text: NATUREZA - CER: 0.125 - Distance: 1\n",
      "existe\n",
      "Label: PANETA - Text: PANETA - CER: 0.0 - Distance: 0\n",
      "existe\n",
      "Label: TERA - Text: TERA - CER: 0.0 - Distance: 0\n",
      "existe\n",
      "Label: FORE - Text: FLOR - CER: 0.5 - Distance: 2\n",
      "existe\n",
      "Label: O NOSE PANETA E BONITO - Text: O NOSSO PLANETA É MUTO BONITO - CER: 0.3103448275862069 - Distance: 9\n",
      "existe\n",
      "Label: NATUNEZA - Text: NATUREZA - CER: 0.125 - Distance: 1\n",
      "existe\n",
      "Label: PANETA - Text: PANETA - CER: 0.0 - Distance: 0\n",
      "existe\n"
     ]
    },
    {
     "name": "stderr",
     "output_type": "stream",
     "text": [
      "26it [00:00, 81.77it/s]"
     ]
    },
    {
     "name": "stdout",
     "output_type": "stream",
     "text": [
      "Label: PERA - Text: TERA - CER: 0.25 - Distance: 1\n",
      "existe\n",
      "Label: FULI - Text: FLOR - CER: 0.75 - Distance: 3\n",
      "existe\n",
      "Label: NATUREZA - Text: NATUREZA - CER: 0.0 - Distance: 0\n",
      "existe\n",
      "Label: PLANETA - Text: PLANETA - CER: 0.0 - Distance: 0\n",
      "existe\n",
      "Label: TERRA - Text: TERRA - CER: 0.0 - Distance: 0\n",
      "existe\n",
      "Label: FLOR - Text: FLOR - CER: 0.0 - Distance: 0\n",
      "existe\n",
      "Label: O NOSSO PLANETA E MUITO BONITO - Text: O NOSSO PLANETA É MUITO BONITO - CER: 0.03333333333333333 - Distance: 1\n",
      "existe\n",
      "Label: NATURESA - Text: NATURESA - CER: 0.0 - Distance: 0\n",
      "existe\n",
      "Label: PLANETA - Text: PLANETA - CER: 0.0 - Distance: 0\n",
      "existe\n",
      "Label: TERRA - Text: TERRA - CER: 0.0 - Distance: 0\n",
      "existe\n",
      "Label: FLOR - Text: FLOR - CER: 0.0 - Distance: 0\n",
      "existe\n",
      "Label: O NOSSO PLAETA E MUITO BONITO - Text: O NOSSO PLANETA É MUITO BONITO - CER: 0.06666666666666667 - Distance: 2\n",
      "existe\n",
      "Label: NATORESA - Text: NATUREZA - CER: 0.25 - Distance: 2\n",
      "existe\n",
      "Label: PLANETA - Text: PLANETA - CER: 0.0 - Distance: 0\n",
      "existe\n",
      "Label: TÉRRA - Text: TERRA - CER: 0.2 - Distance: 1\n",
      "existe\n",
      "Label: FULOR - Text: FLOR - CER: 0.25 - Distance: 1\n",
      "existe\n"
     ]
    },
    {
     "name": "stderr",
     "output_type": "stream",
     "text": [
      "44it [00:00, 82.78it/s]"
     ]
    },
    {
     "name": "stdout",
     "output_type": "stream",
     "text": [
      "Label: O NOSSO PLANETA É MUITO BONITO - Text: O NOSSO PLANETA E MUITO BONITO - CER: 0.03333333333333333 - Distance: 1\n",
      "existe\n",
      "Label: NATUREZA - Text: NATUREZA - CER: 0.0 - Distance: 0\n",
      "existe\n",
      "Label: PLANETA - Text: PLANETA - CER: 0.0 - Distance: 0\n",
      "existe\n",
      "Label: TERRA - Text: TERRA - CER: 0.0 - Distance: 0\n",
      "existe\n",
      "Label: FLOR - Text: FLR - CER: 0.3333333333333333 - Distance: 1\n",
      "existe\n",
      "Label: O NOSSO PLANETA BONITO - Text: O NOSSO PLANETA É MUITO BONITO - CER: 0.26666666666666666 - Distance: 8\n",
      "existe\n",
      "Label: NATURESA - Text: NATUREZA - CER: 0.125 - Distance: 1\n",
      "existe\n",
      "Label: PLANETA - Text: PLANETA - CER: 0.0 - Distance: 0\n",
      "existe\n",
      "Label: TERRA - Text: TERRA - CER: 0.0 - Distance: 0\n",
      "existe\n",
      "Label: FLOR - Text: TERA - CER: 1.0 - Distance: 4\n",
      "existe\n",
      "Label: O NOSSO PLANETA É MUITO BONITO - Text: O NOSSO PLANETA É MUITO BONITO - CER: 0.0 - Distance: 0\n",
      "existe\n",
      "Label: NATULESA - Text: NATUREZA - CER: 0.25 - Distance: 2\n",
      "existe\n",
      "Label: PALLETA - Text: PALETA - CER: 0.16666666666666666 - Distance: 1\n",
      "existe\n",
      "Label: TERA - Text: FOR - CER: 1.0 - Distance: 3\n",
      "existe\n",
      "Label: FOUBU - Text: TERRA - CER: 1.0 - Distance: 5\n",
      "existe\n",
      "Label: O NOSO POLETA E MUITO BONITO - Text: O NOSSO PLANETA E MUTO BONITO - CER: 0.1724137931034483 - Distance: 5\n",
      "existe\n",
      "Label: NATURES - Text: NATUREZA - CER: 0.25 - Distance: 2\n",
      "existe\n"
     ]
    },
    {
     "name": "stderr",
     "output_type": "stream",
     "text": [
      "62it [00:00, 82.17it/s]"
     ]
    },
    {
     "name": "stdout",
     "output_type": "stream",
     "text": [
      "Label: PÃONETA  - Text: PANETA - CER: 0.5 - Distance: 3\n",
      "existe\n",
      "Label: TERA  - Text: TERA - CER: 0.25 - Distance: 1\n",
      "existe\n",
      "Label: FOLA - Text: FERA - CER: 0.5 - Distance: 2\n",
      "existe\n",
      "Label: NOSO PÃONETA E MUTU BUNTO - Text: O NOSSO PLANETA E MUTO BONITO - CER: 0.27586206896551724 - Distance: 8\n",
      "existe\n",
      "Label: AOEA - Text: PLNTA - CER: 0.8 - Distance: 4\n",
      "existe\n",
      "Label: AEA - Text: FLOA - CER: 0.75 - Distance: 3\n",
      "existe\n",
      "Label: TIA - Text: FOA - CER: 0.6666666666666666 - Distance: 2\n",
      "existe\n",
      "Label: OUA - Text: FLR - CER: 1.0 - Distance: 3\n",
      "existe\n",
      "Label: OUAE AOU - Text: CaBITA - CER: 1.1666666666666667 - Distance: 7\n",
      "existe\n",
      "Label: NATUREZA  - Text: NATURESA - CER: 0.25 - Distance: 2\n",
      "existe\n",
      "Label: PLANETA  - Text: PLANETA - CER: 0.14285714285714285 - Distance: 1\n",
      "existe\n",
      "Label: TERRA - Text: TERRA - CER: 0.0 - Distance: 0\n",
      "existe\n",
      "Label: FLOR - Text: FLOR - CER: 0.0 - Distance: 0\n",
      "existe\n",
      "Label: O NOSSO PLANETA É MUITO BONITO - Text: O NOSSO PLANETA E MUTO BONITO - CER: 0.06896551724137931 - Distance: 2\n",
      "existe\n",
      "Label: NATUREZA - Text: NATUREZA - CER: 0.0 - Distance: 0\n",
      "existe\n",
      "Label: PLANETA - Text: PLANETA - CER: 0.0 - Distance: 0\n",
      "existe\n",
      "Label: TERA - Text: TERRA - CER: 0.2 - Distance: 1\n",
      "existe\n",
      "Label: FLOR - Text: FLOR - CER: 0.0 - Distance: 0\n",
      "existe\n"
     ]
    },
    {
     "name": "stderr",
     "output_type": "stream",
     "text": [
      "80it [00:00, 78.80it/s]"
     ]
    },
    {
     "name": "stdout",
     "output_type": "stream",
     "text": [
      "Label: NOSO PLANETA E MUITO BONITO - Text: O NOSSO PLANETA E MUITO BONITO - CER: 0.1 - Distance: 3\n",
      "existe\n",
      "Label: ARENMBVA - Text: NATURESA - CER: 0.875 - Distance: 7\n",
      "existe\n",
      "Label: OOCAIVAA - Text: NATUREZA - CER: 0.875 - Distance: 7\n",
      "existe\n",
      "Label: CISOAEANLI - Text: NATUREZA - CER: 1.125 - Distance: 9\n",
      "existe\n",
      "Label: AIEST - Text: PAETA - CER: 0.8 - Distance: 4\n",
      "existe\n",
      "Label: O OCIEADYS DAEHNB OFE OUEA OAIEJ - Text: O NOSSO PLANETA É MUTO BONITO - CER: 0.8275862068965517 - Distance: 24\n",
      "existe\n",
      "Label: NATURESZA - Text: NATURESA - CER: 0.125 - Distance: 1\n",
      "existe\n",
      "Label: PLANETA - Text: PLANETA - CER: 0.0 - Distance: 0\n",
      "existe\n",
      "Label: TERRA - Text: PLANTA - CER: 0.8333333333333334 - Distance: 5\n",
      "existe\n",
      "Label: FLOR - Text: FLOR - CER: 0.0 - Distance: 0\n",
      "existe\n",
      "Label: O NOSSO PLANETA É MUITO BONITO - Text: O NOSSO PLANETA É MUITO BONITO - CER: 0.0 - Distance: 0\n",
      "existe\n",
      "Label: NATURESA - Text: NATUREZA - CER: 0.125 - Distance: 1\n",
      "existe\n",
      "Label: PLANETA - Text: PLANETA - CER: 0.0 - Distance: 0\n",
      "existe\n",
      "Label: TÉRRA - Text: TERRA - CER: 0.2 - Distance: 1\n",
      "existe\n",
      "Label: FLO - Text: FO - CER: 0.5 - Distance: 1\n",
      "existe\n",
      "Label: O NOSO PLANTA E MUITO BONITO - Text: GOSNODE CEBOLINHA NASALADA - CER: 0.9230769230769231 - Distance: 24\n",
      "existe\n"
     ]
    },
    {
     "name": "stderr",
     "output_type": "stream",
     "text": [
      "98it [00:01, 81.35it/s]"
     ]
    },
    {
     "name": "stdout",
     "output_type": "stream",
     "text": [
      "Label: SAO - Text: TARRA - CER: 0.8 - Distance: 4\n",
      "existe\n",
      "Label: O - Text: AO - CER: 0.5 - Distance: 1\n",
      "existe\n",
      "Label: DO - Text: FOR - CER: 0.6666666666666666 - Distance: 2\n",
      "existe\n",
      "Label: IOA - Text: FEOA - CER: 0.5 - Distance: 2\n",
      "existe\n",
      "Label: DOUAOU - Text: CIMITA - CER: 1.0 - Distance: 6\n",
      "existe\n",
      "Label: NATUREIZA - Text: NATUREZA - CER: 0.125 - Distance: 1\n",
      "existe\n",
      "Label: PALNETA - Text: PANETA - CER: 0.16666666666666666 - Distance: 1\n",
      "existe\n",
      "Label: TERRA - Text: TLRRA - CER: 0.2 - Distance: 1\n",
      "existe\n",
      "Label: FO - Text: FO - CER: 0.0 - Distance: 0\n",
      "existe\n",
      "Label: AUEA - Text: PLANETA - CER: 0.5714285714285714 - Distance: 4\n",
      "existe\n",
      "Label: EDT - Text: FLR - CER: 1.0 - Distance: 3\n",
      "existe\n",
      "Label: TA - Text: FA - CER: 0.5 - Distance: 1\n",
      "existe\n",
      "Label: AI - Text: FO - CER: 1.0 - Distance: 2\n",
      "existe\n",
      "Label: NATUREZA - Text: NATRETA - CER: 0.2857142857142857 - Distance: 2\n",
      "existe\n",
      "Label: PLANETA - Text: TLTA - CER: 1.0 - Distance: 4\n",
      "existe\n",
      "Label: TERRA - Text: FLR - CER: 1.3333333333333333 - Distance: 4\n",
      "existe\n",
      "Label: FLOR - Text:  - CER: 0.0 - Distance: None\n",
      "existe\n",
      "Label: NATUTEZA - Text: NATUREZA - CER: 0.125 - Distance: 1\n"
     ]
    },
    {
     "name": "stderr",
     "output_type": "stream",
     "text": [
      "116it [00:01, 82.67it/s]"
     ]
    },
    {
     "name": "stdout",
     "output_type": "stream",
     "text": [
      "existe\n",
      "Label: PATNETA - Text: PLANETA - CER: 0.2857142857142857 - Distance: 2\n",
      "existe\n",
      "Label: LHETA - Text: PANETA - CER: 0.5 - Distance: 3\n",
      "existe\n",
      "Label: FUTOU - Text: FLOR - CER: 0.75 - Distance: 3\n",
      "existe\n",
      "Label: O NOSO PATNETA LHEMUH TO BONITO - Text: O NOSSO PLANETA É MUITO BONITO - CER: 0.26666666666666666 - Distance: 8\n",
      "existe\n",
      "Label: NATURESA - Text: NATUREZA - CER: 0.125 - Distance: 1\n",
      "existe\n",
      "Label: PLANETA - Text: NATURESA - CER: 0.75 - Distance: 6\n",
      "existe\n",
      "Label: TERA - Text: TERRA - CER: 0.2 - Distance: 1\n",
      "existe\n",
      "Label: FLOR - Text: TERA - CER: 1.0 - Distance: 4\n",
      "existe\n",
      "Label: NATURESA - Text: NATURESA - CER: 0.0 - Distance: 0\n",
      "existe\n",
      "Label: PANETA - Text: PLANETA - CER: 0.14285714285714285 - Distance: 1\n",
      "existe\n",
      "Label: TERA - Text: TER - CER: 0.3333333333333333 - Distance: 1\n",
      "existe\n",
      "Label: FLOR - Text: FLOR - CER: 0.0 - Distance: 0\n",
      "existe\n",
      "Label: O NXO PANETA É, MUTO BONITO - Text: O NOSSO PLANETA É MUITO BONITO - CER: 0.2 - Distance: 6\n",
      "existe\n",
      "Label: PIPOQUEIRO - Text: NATURESA - CER: 1.125 - Distance: 9\n",
      "existe\n",
      "Label: QUADILHA - Text: NATURESA - CER: 0.875 - Distance: 7\n",
      "existe\n",
      "Label: BALÃO - Text: FAO - CER: 1.0 - Distance: 3\n",
      "existe\n",
      "Label: CLOU - Text: FLOR - CER: 0.5 - Distance: 2\n",
      "existe\n"
     ]
    },
    {
     "name": "stderr",
     "output_type": "stream",
     "text": [
      "134it [00:01, 80.89it/s]"
     ]
    },
    {
     "name": "stdout",
     "output_type": "stream",
     "text": [
      "Label: NATUREZA - Text: NATUREZA - CER: 0.0 - Distance: 0\n",
      "existe\n",
      "Label: PARNETA - Text: PLANETA - CER: 0.2857142857142857 - Distance: 2\n",
      "existe\n",
      "Label: TERRE - Text: TERRA - CER: 0.2 - Distance: 1\n",
      "existe\n",
      "Label: FROU - Text: FLOR - CER: 0.5 - Distance: 2\n",
      "existe\n",
      "Label: O NOSO PARNETA E MUTO BON - Text: O NOSSO PLANETA É MUTO BONITO - CER: 0.2413793103448276 - Distance: 7\n",
      "existe\n",
      "Label: NATUREZA  - Text: NATUREZA - CER: 0.125 - Distance: 1\n",
      "existe\n",
      "Label: PLANETA - Text: PLANETA - CER: 0.0 - Distance: 0\n",
      "existe\n",
      "Label: TERRA - Text: TERRA - CER: 0.0 - Distance: 0\n",
      "existe\n",
      "Label: FLOR - Text: FLOR - CER: 0.0 - Distance: 0\n",
      "existe\n",
      "Label: O NOSSO PLANETA É MUITO BONITO - Text: O NOSSO PLANETA E MUITO BONITO - CER: 0.03333333333333333 - Distance: 1\n",
      "existe\n",
      "Label: NATUREZA - Text: NATUREZA - CER: 0.0 - Distance: 0\n",
      "existe\n",
      "Label: PLaneta - Text: PLANETA - CER: 0.0 - Distance: 0\n",
      "existe\n",
      "Label: terra - Text: TERRA - CER: 0.0 - Distance: 0\n",
      "existe\n",
      "Label: FLOR - Text: FLOR - CER: 0.0 - Distance: 0\n",
      "existe\n",
      "Label: O NOSSO PLANETA É MUITO BONITO - Text: O NOSSO PLANETA É MUTO BONITO - CER: 0.034482758620689655 - Distance: 1\n",
      "existe\n",
      "Label: NATUESA - Text: NATURESA - CER: 0.125 - Distance: 1\n",
      "existe\n",
      "Label: PLANETA - Text: PLANETA - CER: 0.0 - Distance: 0\n",
      "existe\n",
      "Label: TERRA - Text: TERRA - CER: 0.0 - Distance: 0\n",
      "existe\n"
     ]
    },
    {
     "name": "stderr",
     "output_type": "stream",
     "text": [
      "152it [00:01, 81.63it/s]"
     ]
    },
    {
     "name": "stdout",
     "output_type": "stream",
     "text": [
      "Label: FLOR - Text: FLOR - CER: 0.0 - Distance: 0\n",
      "existe\n",
      "Label: O NOSSO PLANETA E MOITO BONITO - Text: GOSTO DE CEBOLINHA NA SALADA - CER: 0.8571428571428571 - Distance: 24\n",
      "existe\n",
      "Label: NATURESA - Text: NATUREZA - CER: 0.125 - Distance: 1\n",
      "existe\n",
      "Label: PLANETA - Text: PLANETA - CER: 0.0 - Distance: 0\n",
      "existe\n",
      "Label: TERRA - Text: TERA - CER: 0.25 - Distance: 1\n",
      "existe\n",
      "Label: FLOR - Text: FLOR - CER: 0.0 - Distance: 0\n",
      "existe\n",
      "Label: NATUREZA - Text: NATUREZA - CER: 0.0 - Distance: 0\n",
      "existe\n",
      "Label: PLANETA - Text: PLANETA - CER: 0.0 - Distance: 0\n",
      "existe\n",
      "Label: TERRA - Text: TERRA - CER: 0.0 - Distance: 0\n",
      "existe\n",
      "Label: FLOR - Text: FLOR - CER: 0.0 - Distance: 0\n",
      "existe\n",
      "Label: O NOSSO PLANETA É MUITO BONITO - Text: O NOSSO PLANETA E MUITO BONITO - CER: 0.03333333333333333 - Distance: 1\n",
      "existe\n",
      "Label: NATUREZA - Text: NATURESA - CER: 0.125 - Distance: 1\n",
      "existe\n",
      "Label: PLANETA - Text: PLANETA - CER: 0.0 - Distance: 0\n",
      "existe\n",
      "Label: TÉRRA - Text: TERRA - CER: 0.2 - Distance: 1\n",
      "existe\n",
      "Label: FLOR - Text: FLOR - CER: 0.0 - Distance: 0\n",
      "existe\n",
      "Label: O NOSSO PLANETA É MUITO BONITO - Text: O NOSSO PLANETA E MUTO BONITO - CER: 0.06896551724137931 - Distance: 2\n",
      "existe\n",
      "Label: NATUREZA - Text: NATUREZA - CER: 0.0 - Distance: 0\n",
      "existe\n",
      "Label: PLANETA - Text: PLANETA - CER: 0.0 - Distance: 0\n",
      "existe\n"
     ]
    },
    {
     "name": "stderr",
     "output_type": "stream",
     "text": [
      "170it [00:02, 81.12it/s]"
     ]
    },
    {
     "name": "stdout",
     "output_type": "stream",
     "text": [
      "Label: TERRA - Text: TERRA - CER: 0.0 - Distance: 0\n",
      "existe\n",
      "Label: FLOR - Text: FLOR - CER: 0.0 - Distance: 0\n",
      "existe\n",
      "Label: O NOSSO PLANETA É MUITO BONITO - Text: O NOSSO PLANETA É MUITO BONITO - CER: 0.0 - Distance: 0\n",
      "existe\n",
      "Label: NATUEZ - Text: NATUREZA - CER: 0.25 - Distance: 2\n",
      "existe\n",
      "Label: PANITA - Text: PANETA - CER: 0.16666666666666666 - Distance: 1\n",
      "existe\n",
      "Label: TERA - Text: TERA - CER: 0.0 - Distance: 0\n",
      "existe\n",
      "Label: FUI - Text: FO - CER: 1.0 - Distance: 2\n",
      "existe\n",
      "Label: O NOSO PANITA MUNITO - Text: O NOSSO PLANETA É MUTO BONITO - CER: 0.3448275862068966 - Distance: 10\n",
      "existe\n",
      "Label: NATUNEVA - Text: NATUREZA - CER: 0.25 - Distance: 2\n",
      "existe\n",
      "Label: PANETA - Text: PANETA - CER: 0.0 - Distance: 0\n",
      "existe\n",
      "Label: TERA - Text: TERA - CER: 0.0 - Distance: 0\n",
      "existe\n",
      "Label: HONO - Text: FORA - CER: 0.75 - Distance: 3\n",
      "existe\n",
      "Label: O NOSSO PANETA E NUIO BONINO - Text: O NOSSO PLANETA E MUITO BONITO - CER: 0.13333333333333333 - Distance: 4\n",
      "existe\n",
      "Label: NATUREZA - Text: NATURESA - CER: 0.125 - Distance: 1\n",
      "existe\n",
      "Label: PLANETA - Text: PLANETA - CER: 0.0 - Distance: 0\n",
      "existe\n",
      "Label: TERRA - Text: TERRA - CER: 0.0 - Distance: 0\n",
      "existe\n",
      "Label: FLOR - Text: FLOR - CER: 0.0 - Distance: 0\n",
      "existe\n",
      "Label: O NOSSO PLANETA É MUITO BONITO - Text: O NOSSO PLANETA E MUTO BONITO - CER: 0.06896551724137931 - Distance: 2\n"
     ]
    },
    {
     "name": "stderr",
     "output_type": "stream",
     "text": [
      "188it [00:02, 81.74it/s]"
     ]
    },
    {
     "name": "stdout",
     "output_type": "stream",
     "text": [
      "existe\n",
      "Label: NATUREZA - Text: NATUREZA - CER: 0.0 - Distance: 0\n",
      "existe\n",
      "Label: PLANETA - Text: PLANETA - CER: 0.0 - Distance: 0\n",
      "existe\n",
      "Label: TERA - Text: TERA - CER: 0.0 - Distance: 0\n",
      "existe\n",
      "Label: FLOR - Text: FLOR - CER: 0.0 - Distance: 0\n",
      "existe\n",
      "Label: O NOSO PLNETA E MUITO BONITO - Text: O NOSSO PLANETA É MUITO BONITO - CER: 0.1 - Distance: 3\n",
      "existe\n",
      "Label: AOEA - Text: ALO - CER: 1.0 - Distance: 3\n",
      "existe\n",
      "Label: AETA - Text: ALRA - CER: 0.5 - Distance: 2\n",
      "existe\n",
      "Label: TERA - Text: FERA - CER: 0.25 - Distance: 1\n",
      "existe\n",
      "Label: FOEO - Text: FLOR - CER: 0.75 - Distance: 3\n",
      "existe\n",
      "Label: NATUREZA. - Text: NATUREZA - CER: 0.125 - Distance: 1\n",
      "existe\n",
      "Label: PLANETA. - Text: PLANETA - CER: 0.14285714285714285 - Distance: 1\n",
      "existe\n",
      "Label: TERRA. - Text: TERRA - CER: 0.2 - Distance: 1\n",
      "existe\n",
      "Label: FLOR. - Text: FLOR - CER: 0.25 - Distance: 1\n",
      "existe\n",
      "Label: O PLANETA É BONITO. - Text: CO NOANETA E BNITO - CER: 0.3333333333333333 - Distance: 6\n",
      "existe\n",
      "Label: NATURESA - Text: NATUREZA - CER: 0.125 - Distance: 1\n",
      "existe\n",
      "Label: PLANETA - Text: PLANETA - CER: 0.0 - Distance: 0\n",
      "existe\n",
      "Label: TERRA - Text: TARRA - CER: 0.2 - Distance: 1\n",
      "existe\n",
      "Label: FLOR - Text: FLRA - CER: 0.5 - Distance: 2\n",
      "existe\n"
     ]
    },
    {
     "name": "stderr",
     "output_type": "stream",
     "text": [
      "206it [00:02, 83.17it/s]"
     ]
    },
    {
     "name": "stdout",
     "output_type": "stream",
     "text": [
      "Label: O NOSSO PLANETA É MUITO BONITO - Text: O NOO PLANETA E MUTO BONITO - CER: 0.14814814814814814 - Distance: 4\n",
      "existe\n",
      "Label: NATURESA - Text: NATUREZA - CER: 0.125 - Distance: 1\n",
      "existe\n",
      "Label: PLANETA - Text: PLANETA - CER: 0.0 - Distance: 0\n",
      "existe\n",
      "Label: TARRA - Text: TERRA - CER: 0.2 - Distance: 1\n",
      "existe\n",
      "Label: FLOR - Text: FLOR - CER: 0.0 - Distance: 0\n",
      "existe\n",
      "Label: O NOSO PLANETA É MUITO BONITO - Text: O NOSSO PLANETA É MUITO BONITO - CER: 0.03333333333333333 - Distance: 1\n",
      "existe\n",
      "Label: NATURERA - Text: NATURESA - CER: 0.125 - Distance: 1\n",
      "existe\n",
      "Label: PANETA - Text: PLANETA - CER: 0.14285714285714285 - Distance: 1\n",
      "existe\n",
      "Label: TERA - Text: TERRA - CER: 0.2 - Distance: 1\n",
      "existe\n",
      "Label: FOLO - Text: PATA - CER: 1.0 - Distance: 4\n",
      "existe\n",
      "Label: O PANETA TEM MUTO BONITO - Text: O NOSSO PLANETA E MUITO BONITO - CER: 0.3333333333333333 - Distance: 10\n",
      "existe\n",
      "Label: NATUREZA - Text: NATUREZA - CER: 0.0 - Distance: 0\n",
      "existe\n",
      "Label: PLANETA - Text: PLANETA - CER: 0.0 - Distance: 0\n",
      "existe\n",
      "Label: TERRA - Text: TERRA - CER: 0.0 - Distance: 0\n",
      "existe\n",
      "Label: FLOR - Text: FLOR - CER: 0.0 - Distance: 0\n",
      "existe\n",
      "Label: O NOSSO PLANETA É MUITO BONITO - Text: O NOSSO PLANETA É MUITO BONITO - CER: 0.0 - Distance: 0\n",
      "existe\n",
      "Label: NAUO - Text: ALRA - CER: 1.0 - Distance: 4\n",
      "existe\n",
      "Label: AETA - Text: FLOR - CER: 1.0 - Distance: 4\n",
      "existe\n"
     ]
    },
    {
     "name": "stderr",
     "output_type": "stream",
     "text": [
      "215it [00:02, 82.57it/s]"
     ]
    },
    {
     "name": "stdout",
     "output_type": "stream",
     "text": [
      "Label: TARA - Text: FLOR - CER: 1.0 - Distance: 4\n",
      "existe\n",
      "Label: RATU - Text: FLOR - CER: 1.0 - Distance: 4\n",
      "existe\n",
      "Label: O NATA NAVO ARM VO TO BOTO - Text: O NOSSO PLANETA É MUTO BONITO - CER: 0.5517241379310345 - Distance: 16\n",
      "existe\n",
      "Label: NATUREZA - Text: NATUREZA - CER: 0.0 - Distance: 0\n",
      "existe\n",
      "Label: PLANETA - Text: PLANETA - CER: 0.0 - Distance: 0\n",
      "existe\n",
      "Label: TERRA - Text: TERRA - CER: 0.0 - Distance: 0\n",
      "existe\n",
      "Label: FLOR - Text: FLOR - CER: 0.0 - Distance: 0\n",
      "existe\n",
      "Label: NATRUEA - Text: NATUREZA - CER: 0.375 - Distance: 3\n",
      "existe\n",
      "Label: PNANTA - Text: PANETA - CER: 0.3333333333333333 - Distance: 2\n",
      "existe\n",
      "Label: TERA - Text: TERA - CER: 0.0 - Distance: 0\n",
      "existe\n",
      "Label: FLORE - Text: FLOR - CER: 0.25 - Distance: 1\n",
      "existe\n",
      "Label: O NOCO PNTA E MUTO BONIT - Text: O NOSSO PLANETA E MUITO BONITO - CER: 0.23333333333333334 - Distance: 7\n",
      "existe\n",
      "Label: NATURE - Text: NATURZA - CER: 0.2857142857142857 - Distance: 2\n",
      "existe\n",
      "Label: PONTA - Text: PLATA - CER: 0.4 - Distance: 2\n",
      "existe\n",
      "Label: CERA - Text: TERA - CER: 0.25 - Distance: 1\n"
     ]
    },
    {
     "name": "stderr",
     "output_type": "stream",
     "text": [
      "224it [00:05, 11.40it/s]"
     ]
    },
    {
     "name": "stdout",
     "output_type": "stream",
     "text": [
      "Label: FO - Text: FO - CER: 0.0 - Distance: 0\n",
      "Label: Q NO PONTO E MUTO NITO - Text: O NOSSO PLANETA É MUTO BONITO - CER: 0.3793103448275862 - Distance: 11\n",
      "Label: NATORESA - Text: NATURESA - CER: 0.125 - Distance: 1\n",
      "Label: PANETA  - Text: PANETA - CER: 0.16666666666666666 - Distance: 1\n"
     ]
    },
    {
     "name": "stderr",
     "output_type": "stream",
     "text": [
      "227it [00:14, 16.14it/s]\n"
     ]
    },
    {
     "ename": "KeyboardInterrupt",
     "evalue": "",
     "output_type": "error",
     "traceback": [
      "\u001b[1;31m---------------------------------------------------------------------------\u001b[0m",
      "\u001b[1;31mKeyboardInterrupt\u001b[0m                         Traceback (most recent call last)",
      "\u001b[1;32mc:\\Users\\lucas\\Documents\\GitHub\\Transcricao_de_Caligrafia\\manuscrito_alunos\\predict.ipynb Cell 9\u001b[0m in \u001b[0;36m<cell line: 2>\u001b[1;34m()\u001b[0m\n\u001b[0;32m     <a href='vscode-notebook-cell:/c%3A/Users/lucas/Documents/GitHub/Transcricao_de_Caligrafia/manuscrito_alunos/predict.ipynb#X22sZmlsZQ%3D%3D?line=11'>12</a>\u001b[0m     \u001b[39mprint\u001b[39m(\u001b[39mf\u001b[39m\u001b[39m'\u001b[39m\u001b[39mLabel: \u001b[39m\u001b[39m{\u001b[39;00mlabel\u001b[39m}\u001b[39;00m\u001b[39m - Text: \u001b[39m\u001b[39m{\u001b[39;00mtext\u001b[39m}\u001b[39;00m\u001b[39m - CER: \u001b[39m\u001b[39m{\u001b[39;00mcer\u001b[39m}\u001b[39;00m\u001b[39m - Distance: \u001b[39m\u001b[39m{\u001b[39;00mdistance\u001b[39m}\u001b[39;00m\u001b[39m'\u001b[39m)\n\u001b[0;32m     <a href='vscode-notebook-cell:/c%3A/Users/lucas/Documents/GitHub/Transcricao_de_Caligrafia/manuscrito_alunos/predict.ipynb#X22sZmlsZQ%3D%3D?line=12'>13</a>\u001b[0m     accum_cer\u001b[39m.\u001b[39mappend(cer)\n\u001b[1;32m---> <a href='vscode-notebook-cell:/c%3A/Users/lucas/Documents/GitHub/Transcricao_de_Caligrafia/manuscrito_alunos/predict.ipynb#X22sZmlsZQ%3D%3D?line=13'>14</a>\u001b[0m     save_image(image, row[\u001b[39m'\u001b[39;49m\u001b[39mID\u001b[39;49m\u001b[39m'\u001b[39;49m], label, text, distance)\n\u001b[0;32m     <a href='vscode-notebook-cell:/c%3A/Users/lucas/Documents/GitHub/Transcricao_de_Caligrafia/manuscrito_alunos/predict.ipynb#X22sZmlsZQ%3D%3D?line=15'>16</a>\u001b[0m \u001b[39mprint\u001b[39m(\u001b[39mf\u001b[39m\u001b[39m'\u001b[39m\u001b[39mMean CER: \u001b[39m\u001b[39m{\u001b[39;00mnp\u001b[39m.\u001b[39mmean(accum_cer)\u001b[39m}\u001b[39;00m\u001b[39m'\u001b[39m)\n",
      "\u001b[1;32mc:\\Users\\lucas\\Documents\\GitHub\\Transcricao_de_Caligrafia\\manuscrito_alunos\\predict.ipynb Cell 9\u001b[0m in \u001b[0;36msave_image\u001b[1;34m(image, image_path, label, prediction_text, distance)\u001b[0m\n\u001b[0;32m      <a href='vscode-notebook-cell:/c%3A/Users/lucas/Documents/GitHub/Transcricao_de_Caligrafia/manuscrito_alunos/predict.ipynb#X22sZmlsZQ%3D%3D?line=3'>4</a>\u001b[0m plt\u001b[39m.\u001b[39mtitle(\u001b[39mf\u001b[39m\u001b[39m\"\u001b[39m\u001b[39mLabel: \u001b[39m\u001b[39m{\u001b[39;00mlabel\u001b[39m}\u001b[39;00m\u001b[39m\\n\u001b[39;00m\u001b[39m Prediction: \u001b[39m\u001b[39m{\u001b[39;00mprediction_text\u001b[39m}\u001b[39;00m\u001b[39m\\n\u001b[39;00m\u001b[39m Distance: \u001b[39m\u001b[39m{\u001b[39;00mdistance\u001b[39m}\u001b[39;00m\u001b[39m\"\u001b[39m, color\u001b[39m=\u001b[39m\u001b[39m'\u001b[39m\u001b[39myellow\u001b[39m\u001b[39m'\u001b[39m, path_effects\u001b[39m=\u001b[39m[patheffects\u001b[39m.\u001b[39mwithStroke(linewidth\u001b[39m=\u001b[39m\u001b[39m3\u001b[39m, foreground\u001b[39m=\u001b[39m\u001b[39m'\u001b[39m\u001b[39mblack\u001b[39m\u001b[39m'\u001b[39m)])\n\u001b[0;32m      <a href='vscode-notebook-cell:/c%3A/Users/lucas/Documents/GitHub/Transcricao_de_Caligrafia/manuscrito_alunos/predict.ipynb#X22sZmlsZQ%3D%3D?line=4'>5</a>\u001b[0m \u001b[39mif\u001b[39;00m \u001b[39mnot\u001b[39;00m os\u001b[39m.\u001b[39mpath\u001b[39m.\u001b[39misfile(\u001b[39mf\u001b[39m\u001b[39m\"\u001b[39m\u001b[39m../data/imagens_BR/\u001b[39m\u001b[39m{\u001b[39;00mimage_path\u001b[39m.\u001b[39msplit(\u001b[39m'\u001b[39m\u001b[39m/\u001b[39m\u001b[39m'\u001b[39m)[\u001b[39m-\u001b[39m\u001b[39m1\u001b[39m]\u001b[39m}\u001b[39;00m\u001b[39m\"\u001b[39m): \n\u001b[1;32m----> <a href='vscode-notebook-cell:/c%3A/Users/lucas/Documents/GitHub/Transcricao_de_Caligrafia/manuscrito_alunos/predict.ipynb#X22sZmlsZQ%3D%3D?line=5'>6</a>\u001b[0m     plt\u001b[39m.\u001b[39;49msavefig(\u001b[39mf\u001b[39;49m\u001b[39m\"\u001b[39;49m\u001b[39m../data/imagens_BR/\u001b[39;49m\u001b[39m{\u001b[39;49;00mimage_path\u001b[39m.\u001b[39;49msplit(\u001b[39m'\u001b[39;49m\u001b[39m/\u001b[39;49m\u001b[39m'\u001b[39;49m)[\u001b[39m-\u001b[39;49m\u001b[39m1\u001b[39;49m]\u001b[39m}\u001b[39;49;00m\u001b[39m\"\u001b[39;49m)\n\u001b[0;32m      <a href='vscode-notebook-cell:/c%3A/Users/lucas/Documents/GitHub/Transcricao_de_Caligrafia/manuscrito_alunos/predict.ipynb#X22sZmlsZQ%3D%3D?line=6'>7</a>\u001b[0m \u001b[39melse\u001b[39;00m:\n\u001b[0;32m      <a href='vscode-notebook-cell:/c%3A/Users/lucas/Documents/GitHub/Transcricao_de_Caligrafia/manuscrito_alunos/predict.ipynb#X22sZmlsZQ%3D%3D?line=7'>8</a>\u001b[0m     \u001b[39mprint\u001b[39m(\u001b[39m\"\u001b[39m\u001b[39mexiste\u001b[39m\u001b[39m\"\u001b[39m)\n",
      "File \u001b[1;32mc:\\Users\\lucas\\AppData\\Local\\Programs\\Python\\Python38\\lib\\site-packages\\matplotlib\\pyplot.py:1024\u001b[0m, in \u001b[0;36msavefig\u001b[1;34m(*args, **kwargs)\u001b[0m\n\u001b[0;32m   1022\u001b[0m fig \u001b[39m=\u001b[39m gcf()\n\u001b[0;32m   1023\u001b[0m res \u001b[39m=\u001b[39m fig\u001b[39m.\u001b[39msavefig(\u001b[39m*\u001b[39margs, \u001b[39m*\u001b[39m\u001b[39m*\u001b[39mkwargs)\n\u001b[1;32m-> 1024\u001b[0m fig\u001b[39m.\u001b[39;49mcanvas\u001b[39m.\u001b[39;49mdraw_idle()  \u001b[39m# Need this if 'transparent=True', to reset colors.\u001b[39;00m\n\u001b[0;32m   1025\u001b[0m \u001b[39mreturn\u001b[39;00m res\n",
      "File \u001b[1;32mc:\\Users\\lucas\\AppData\\Local\\Programs\\Python\\Python38\\lib\\site-packages\\matplotlib\\backend_bases.py:2082\u001b[0m, in \u001b[0;36mFigureCanvasBase.draw_idle\u001b[1;34m(self, *args, **kwargs)\u001b[0m\n\u001b[0;32m   2080\u001b[0m \u001b[39mif\u001b[39;00m \u001b[39mnot\u001b[39;00m \u001b[39mself\u001b[39m\u001b[39m.\u001b[39m_is_idle_drawing:\n\u001b[0;32m   2081\u001b[0m     \u001b[39mwith\u001b[39;00m \u001b[39mself\u001b[39m\u001b[39m.\u001b[39m_idle_draw_cntx():\n\u001b[1;32m-> 2082\u001b[0m         \u001b[39mself\u001b[39;49m\u001b[39m.\u001b[39;49mdraw(\u001b[39m*\u001b[39;49margs, \u001b[39m*\u001b[39;49m\u001b[39m*\u001b[39;49mkwargs)\n",
      "File \u001b[1;32mc:\\Users\\lucas\\AppData\\Local\\Programs\\Python\\Python38\\lib\\site-packages\\matplotlib\\backends\\backend_agg.py:400\u001b[0m, in \u001b[0;36mFigureCanvasAgg.draw\u001b[1;34m(self)\u001b[0m\n\u001b[0;32m    396\u001b[0m \u001b[39m# Acquire a lock on the shared font cache.\u001b[39;00m\n\u001b[0;32m    397\u001b[0m \u001b[39mwith\u001b[39;00m RendererAgg\u001b[39m.\u001b[39mlock, \\\n\u001b[0;32m    398\u001b[0m      (\u001b[39mself\u001b[39m\u001b[39m.\u001b[39mtoolbar\u001b[39m.\u001b[39m_wait_cursor_for_draw_cm() \u001b[39mif\u001b[39;00m \u001b[39mself\u001b[39m\u001b[39m.\u001b[39mtoolbar\n\u001b[0;32m    399\u001b[0m       \u001b[39melse\u001b[39;00m nullcontext()):\n\u001b[1;32m--> 400\u001b[0m     \u001b[39mself\u001b[39;49m\u001b[39m.\u001b[39;49mfigure\u001b[39m.\u001b[39;49mdraw(\u001b[39mself\u001b[39;49m\u001b[39m.\u001b[39;49mrenderer)\n\u001b[0;32m    401\u001b[0m     \u001b[39m# A GUI class may be need to update a window using this draw, so\u001b[39;00m\n\u001b[0;32m    402\u001b[0m     \u001b[39m# don't forget to call the superclass.\u001b[39;00m\n\u001b[0;32m    403\u001b[0m     \u001b[39msuper\u001b[39m()\u001b[39m.\u001b[39mdraw()\n",
      "File \u001b[1;32mc:\\Users\\lucas\\AppData\\Local\\Programs\\Python\\Python38\\lib\\site-packages\\matplotlib\\artist.py:95\u001b[0m, in \u001b[0;36m_finalize_rasterization.<locals>.draw_wrapper\u001b[1;34m(artist, renderer, *args, **kwargs)\u001b[0m\n\u001b[0;32m     93\u001b[0m \u001b[39m@wraps\u001b[39m(draw)\n\u001b[0;32m     94\u001b[0m \u001b[39mdef\u001b[39;00m \u001b[39mdraw_wrapper\u001b[39m(artist, renderer, \u001b[39m*\u001b[39margs, \u001b[39m*\u001b[39m\u001b[39m*\u001b[39mkwargs):\n\u001b[1;32m---> 95\u001b[0m     result \u001b[39m=\u001b[39m draw(artist, renderer, \u001b[39m*\u001b[39;49margs, \u001b[39m*\u001b[39;49m\u001b[39m*\u001b[39;49mkwargs)\n\u001b[0;32m     96\u001b[0m     \u001b[39mif\u001b[39;00m renderer\u001b[39m.\u001b[39m_rasterizing:\n\u001b[0;32m     97\u001b[0m         renderer\u001b[39m.\u001b[39mstop_rasterizing()\n",
      "File \u001b[1;32mc:\\Users\\lucas\\AppData\\Local\\Programs\\Python\\Python38\\lib\\site-packages\\matplotlib\\artist.py:72\u001b[0m, in \u001b[0;36mallow_rasterization.<locals>.draw_wrapper\u001b[1;34m(artist, renderer)\u001b[0m\n\u001b[0;32m     69\u001b[0m     \u001b[39mif\u001b[39;00m artist\u001b[39m.\u001b[39mget_agg_filter() \u001b[39mis\u001b[39;00m \u001b[39mnot\u001b[39;00m \u001b[39mNone\u001b[39;00m:\n\u001b[0;32m     70\u001b[0m         renderer\u001b[39m.\u001b[39mstart_filter()\n\u001b[1;32m---> 72\u001b[0m     \u001b[39mreturn\u001b[39;00m draw(artist, renderer)\n\u001b[0;32m     73\u001b[0m \u001b[39mfinally\u001b[39;00m:\n\u001b[0;32m     74\u001b[0m     \u001b[39mif\u001b[39;00m artist\u001b[39m.\u001b[39mget_agg_filter() \u001b[39mis\u001b[39;00m \u001b[39mnot\u001b[39;00m \u001b[39mNone\u001b[39;00m:\n",
      "File \u001b[1;32mc:\\Users\\lucas\\AppData\\Local\\Programs\\Python\\Python38\\lib\\site-packages\\matplotlib\\figure.py:3140\u001b[0m, in \u001b[0;36mFigure.draw\u001b[1;34m(self, renderer)\u001b[0m\n\u001b[0;32m   3137\u001b[0m         \u001b[39m# ValueError can occur when resizing a window.\u001b[39;00m\n\u001b[0;32m   3139\u001b[0m \u001b[39mself\u001b[39m\u001b[39m.\u001b[39mpatch\u001b[39m.\u001b[39mdraw(renderer)\n\u001b[1;32m-> 3140\u001b[0m mimage\u001b[39m.\u001b[39;49m_draw_list_compositing_images(\n\u001b[0;32m   3141\u001b[0m     renderer, \u001b[39mself\u001b[39;49m, artists, \u001b[39mself\u001b[39;49m\u001b[39m.\u001b[39;49msuppressComposite)\n\u001b[0;32m   3143\u001b[0m \u001b[39mfor\u001b[39;00m sfig \u001b[39min\u001b[39;00m \u001b[39mself\u001b[39m\u001b[39m.\u001b[39msubfigs:\n\u001b[0;32m   3144\u001b[0m     sfig\u001b[39m.\u001b[39mdraw(renderer)\n",
      "File \u001b[1;32mc:\\Users\\lucas\\AppData\\Local\\Programs\\Python\\Python38\\lib\\site-packages\\matplotlib\\image.py:131\u001b[0m, in \u001b[0;36m_draw_list_compositing_images\u001b[1;34m(renderer, parent, artists, suppress_composite)\u001b[0m\n\u001b[0;32m    129\u001b[0m \u001b[39mif\u001b[39;00m not_composite \u001b[39mor\u001b[39;00m \u001b[39mnot\u001b[39;00m has_images:\n\u001b[0;32m    130\u001b[0m     \u001b[39mfor\u001b[39;00m a \u001b[39min\u001b[39;00m artists:\n\u001b[1;32m--> 131\u001b[0m         a\u001b[39m.\u001b[39;49mdraw(renderer)\n\u001b[0;32m    132\u001b[0m \u001b[39melse\u001b[39;00m:\n\u001b[0;32m    133\u001b[0m     \u001b[39m# Composite any adjacent images together\u001b[39;00m\n\u001b[0;32m    134\u001b[0m     image_group \u001b[39m=\u001b[39m []\n",
      "File \u001b[1;32mc:\\Users\\lucas\\AppData\\Local\\Programs\\Python\\Python38\\lib\\site-packages\\matplotlib\\artist.py:72\u001b[0m, in \u001b[0;36mallow_rasterization.<locals>.draw_wrapper\u001b[1;34m(artist, renderer)\u001b[0m\n\u001b[0;32m     69\u001b[0m     \u001b[39mif\u001b[39;00m artist\u001b[39m.\u001b[39mget_agg_filter() \u001b[39mis\u001b[39;00m \u001b[39mnot\u001b[39;00m \u001b[39mNone\u001b[39;00m:\n\u001b[0;32m     70\u001b[0m         renderer\u001b[39m.\u001b[39mstart_filter()\n\u001b[1;32m---> 72\u001b[0m     \u001b[39mreturn\u001b[39;00m draw(artist, renderer)\n\u001b[0;32m     73\u001b[0m \u001b[39mfinally\u001b[39;00m:\n\u001b[0;32m     74\u001b[0m     \u001b[39mif\u001b[39;00m artist\u001b[39m.\u001b[39mget_agg_filter() \u001b[39mis\u001b[39;00m \u001b[39mnot\u001b[39;00m \u001b[39mNone\u001b[39;00m:\n",
      "File \u001b[1;32mc:\\Users\\lucas\\AppData\\Local\\Programs\\Python\\Python38\\lib\\site-packages\\matplotlib\\axes\\_base.py:3064\u001b[0m, in \u001b[0;36m_AxesBase.draw\u001b[1;34m(self, renderer)\u001b[0m\n\u001b[0;32m   3061\u001b[0m \u001b[39mif\u001b[39;00m artists_rasterized:\n\u001b[0;32m   3062\u001b[0m     _draw_rasterized(\u001b[39mself\u001b[39m\u001b[39m.\u001b[39mfigure, artists_rasterized, renderer)\n\u001b[1;32m-> 3064\u001b[0m mimage\u001b[39m.\u001b[39;49m_draw_list_compositing_images(\n\u001b[0;32m   3065\u001b[0m     renderer, \u001b[39mself\u001b[39;49m, artists, \u001b[39mself\u001b[39;49m\u001b[39m.\u001b[39;49mfigure\u001b[39m.\u001b[39;49msuppressComposite)\n\u001b[0;32m   3067\u001b[0m renderer\u001b[39m.\u001b[39mclose_group(\u001b[39m'\u001b[39m\u001b[39maxes\u001b[39m\u001b[39m'\u001b[39m)\n\u001b[0;32m   3068\u001b[0m \u001b[39mself\u001b[39m\u001b[39m.\u001b[39mstale \u001b[39m=\u001b[39m \u001b[39mFalse\u001b[39;00m\n",
      "File \u001b[1;32mc:\\Users\\lucas\\AppData\\Local\\Programs\\Python\\Python38\\lib\\site-packages\\matplotlib\\image.py:131\u001b[0m, in \u001b[0;36m_draw_list_compositing_images\u001b[1;34m(renderer, parent, artists, suppress_composite)\u001b[0m\n\u001b[0;32m    129\u001b[0m \u001b[39mif\u001b[39;00m not_composite \u001b[39mor\u001b[39;00m \u001b[39mnot\u001b[39;00m has_images:\n\u001b[0;32m    130\u001b[0m     \u001b[39mfor\u001b[39;00m a \u001b[39min\u001b[39;00m artists:\n\u001b[1;32m--> 131\u001b[0m         a\u001b[39m.\u001b[39;49mdraw(renderer)\n\u001b[0;32m    132\u001b[0m \u001b[39melse\u001b[39;00m:\n\u001b[0;32m    133\u001b[0m     \u001b[39m# Composite any adjacent images together\u001b[39;00m\n\u001b[0;32m    134\u001b[0m     image_group \u001b[39m=\u001b[39m []\n",
      "File \u001b[1;32mc:\\Users\\lucas\\AppData\\Local\\Programs\\Python\\Python38\\lib\\site-packages\\matplotlib\\artist.py:72\u001b[0m, in \u001b[0;36mallow_rasterization.<locals>.draw_wrapper\u001b[1;34m(artist, renderer)\u001b[0m\n\u001b[0;32m     69\u001b[0m     \u001b[39mif\u001b[39;00m artist\u001b[39m.\u001b[39mget_agg_filter() \u001b[39mis\u001b[39;00m \u001b[39mnot\u001b[39;00m \u001b[39mNone\u001b[39;00m:\n\u001b[0;32m     70\u001b[0m         renderer\u001b[39m.\u001b[39mstart_filter()\n\u001b[1;32m---> 72\u001b[0m     \u001b[39mreturn\u001b[39;00m draw(artist, renderer)\n\u001b[0;32m     73\u001b[0m \u001b[39mfinally\u001b[39;00m:\n\u001b[0;32m     74\u001b[0m     \u001b[39mif\u001b[39;00m artist\u001b[39m.\u001b[39mget_agg_filter() \u001b[39mis\u001b[39;00m \u001b[39mnot\u001b[39;00m \u001b[39mNone\u001b[39;00m:\n",
      "File \u001b[1;32mc:\\Users\\lucas\\AppData\\Local\\Programs\\Python\\Python38\\lib\\site-packages\\matplotlib\\image.py:641\u001b[0m, in \u001b[0;36m_ImageBase.draw\u001b[1;34m(self, renderer, *args, **kwargs)\u001b[0m\n\u001b[0;32m    639\u001b[0m         renderer\u001b[39m.\u001b[39mdraw_image(gc, l, b, im, trans)\n\u001b[0;32m    640\u001b[0m \u001b[39melse\u001b[39;00m:\n\u001b[1;32m--> 641\u001b[0m     im, l, b, trans \u001b[39m=\u001b[39m \u001b[39mself\u001b[39;49m\u001b[39m.\u001b[39;49mmake_image(\n\u001b[0;32m    642\u001b[0m         renderer, renderer\u001b[39m.\u001b[39;49mget_image_magnification())\n\u001b[0;32m    643\u001b[0m     \u001b[39mif\u001b[39;00m im \u001b[39mis\u001b[39;00m \u001b[39mnot\u001b[39;00m \u001b[39mNone\u001b[39;00m:\n\u001b[0;32m    644\u001b[0m         renderer\u001b[39m.\u001b[39mdraw_image(gc, l, b, im)\n",
      "File \u001b[1;32mc:\\Users\\lucas\\AppData\\Local\\Programs\\Python\\Python38\\lib\\site-packages\\matplotlib\\image.py:949\u001b[0m, in \u001b[0;36mAxesImage.make_image\u001b[1;34m(self, renderer, magnification, unsampled)\u001b[0m\n\u001b[0;32m    946\u001b[0m transformed_bbox \u001b[39m=\u001b[39m TransformedBbox(bbox, trans)\n\u001b[0;32m    947\u001b[0m clip \u001b[39m=\u001b[39m ((\u001b[39mself\u001b[39m\u001b[39m.\u001b[39mget_clip_box() \u001b[39mor\u001b[39;00m \u001b[39mself\u001b[39m\u001b[39m.\u001b[39maxes\u001b[39m.\u001b[39mbbox) \u001b[39mif\u001b[39;00m \u001b[39mself\u001b[39m\u001b[39m.\u001b[39mget_clip_on()\n\u001b[0;32m    948\u001b[0m         \u001b[39melse\u001b[39;00m \u001b[39mself\u001b[39m\u001b[39m.\u001b[39mfigure\u001b[39m.\u001b[39mbbox)\n\u001b[1;32m--> 949\u001b[0m \u001b[39mreturn\u001b[39;00m \u001b[39mself\u001b[39;49m\u001b[39m.\u001b[39;49m_make_image(\u001b[39mself\u001b[39;49m\u001b[39m.\u001b[39;49m_A, bbox, transformed_bbox, clip,\n\u001b[0;32m    950\u001b[0m                         magnification, unsampled\u001b[39m=\u001b[39;49munsampled)\n",
      "File \u001b[1;32mc:\\Users\\lucas\\AppData\\Local\\Programs\\Python\\Python38\\lib\\site-packages\\matplotlib\\image.py:551\u001b[0m, in \u001b[0;36m_ImageBase._make_image\u001b[1;34m(self, A, in_bbox, out_bbox, clip_bbox, magnification, unsampled, round_to_pixel_border)\u001b[0m\n\u001b[0;32m    549\u001b[0m     A \u001b[39m=\u001b[39m \u001b[39mself\u001b[39m\u001b[39m.\u001b[39mto_rgba(A)\n\u001b[0;32m    550\u001b[0m \u001b[39mif\u001b[39;00m A\u001b[39m.\u001b[39mshape[\u001b[39m2\u001b[39m] \u001b[39m==\u001b[39m \u001b[39m3\u001b[39m:\n\u001b[1;32m--> 551\u001b[0m     A \u001b[39m=\u001b[39m _rgb_to_rgba(A)\n\u001b[0;32m    552\u001b[0m alpha \u001b[39m=\u001b[39m \u001b[39mself\u001b[39m\u001b[39m.\u001b[39m_get_scalar_alpha()\n\u001b[0;32m    553\u001b[0m output_alpha \u001b[39m=\u001b[39m _resample(  \u001b[39m# resample alpha channel\u001b[39;00m\n\u001b[0;32m    554\u001b[0m     \u001b[39mself\u001b[39m, A[\u001b[39m.\u001b[39m\u001b[39m.\u001b[39m\u001b[39m.\u001b[39m, \u001b[39m3\u001b[39m], out_shape, t, alpha\u001b[39m=\u001b[39malpha)\n",
      "File \u001b[1;32mc:\\Users\\lucas\\AppData\\Local\\Programs\\Python\\Python38\\lib\\site-packages\\matplotlib\\image.py:222\u001b[0m, in \u001b[0;36m_rgb_to_rgba\u001b[1;34m(A)\u001b[0m\n\u001b[0;32m    217\u001b[0m \u001b[39m\"\"\"\u001b[39;00m\n\u001b[0;32m    218\u001b[0m \u001b[39mConvert an RGB image to RGBA, as required by the image resample C++\u001b[39;00m\n\u001b[0;32m    219\u001b[0m \u001b[39mextension.\u001b[39;00m\n\u001b[0;32m    220\u001b[0m \u001b[39m\"\"\"\u001b[39;00m\n\u001b[0;32m    221\u001b[0m rgba \u001b[39m=\u001b[39m np\u001b[39m.\u001b[39mzeros((A\u001b[39m.\u001b[39mshape[\u001b[39m0\u001b[39m], A\u001b[39m.\u001b[39mshape[\u001b[39m1\u001b[39m], \u001b[39m4\u001b[39m), dtype\u001b[39m=\u001b[39mA\u001b[39m.\u001b[39mdtype)\n\u001b[1;32m--> 222\u001b[0m rgba[:, :, :\u001b[39m3\u001b[39;49m] \u001b[39m=\u001b[39m A\n\u001b[0;32m    223\u001b[0m \u001b[39mif\u001b[39;00m rgba\u001b[39m.\u001b[39mdtype \u001b[39m==\u001b[39m np\u001b[39m.\u001b[39muint8:\n\u001b[0;32m    224\u001b[0m     rgba[:, :, \u001b[39m3\u001b[39m] \u001b[39m=\u001b[39m \u001b[39m255\u001b[39m\n",
      "\u001b[1;31mKeyboardInterrupt\u001b[0m: "
     ]
    },
    {
     "data": {
      "image/png": "[encoded data removed]",
      "text/plain": [
       "<Figure size 640x480 with 1 Axes>"
      ]
     },
     "metadata": {},
     "output_type": "display_data"
    }
   ],
   "source": [
    "accum_cer = []\n",
    "for index, row in tqdm(df.iterrows()):\n",
    "    image = cv2.imread(row['ID'])\n",
    "    text = model.predict(image)\n",
    "    label = row[\"Label\"]\n",
    "    result = get_cer(label.upper(), text.upper())\n",
    "    if isinstance(result, float):\n",
    "        cer = result\n",
    "        distance = None  # Defina um valor padrão para a distância, se necessário\n",
    "    else:\n",
    "        cer, distance = result\n",
    "    print(f'Label: {label} - Text: {text} - CER: {cer} - Distance: {distance}')\n",
    "    accum_cer.append(cer)\n",
    "    save_image(image, row['ID'], label, text, distance)\n",
    "\n",
    "print(f'Mean CER: {np.mean(accum_cer)}')\n"
   ]
  }
 ],
 "metadata": {
  "kernelspec": {
   "display_name": "Python 3",
   "language": "python",
   "name": "python3"
  },
  "language_info": {
   "codemirror_mode": {
    "name": "ipython",
    "version": 3
   },
   "file_extension": ".py",
   "mimetype": "text/x-python",
   "name": "python",
   "nbconvert_exporter": "python",
   "pygments_lexer": "ipython3",
   "version": "3.8.0"
  },
  "orig_nbformat": 4
 },
 "nbformat": 4,
 "nbformat_minor": 2
}
